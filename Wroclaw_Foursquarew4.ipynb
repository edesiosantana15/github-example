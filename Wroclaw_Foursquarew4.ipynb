{
 "cells": [
  {
   "cell_type": "markdown",
   "metadata": {
    "button": false,
    "deletable": true,
    "new_sheet": false,
    "run_control": {
     "read_only": false
    }
   },
   "source": [
    "   "
   ]
  },
  {
   "cell_type": "markdown",
   "metadata": {
    "button": false,
    "deletable": true,
    "new_sheet": false,
    "run_control": {
     "read_only": false
    }
   },
   "source": [
    "<h1><b><font color = orange>Applied Data Science Capstone </font></b></h1>\n",
    "<h3>Edesio Santana - Wroclaw, June 24th, 2019<h3><br>"
   ]
  },
  {
   "cell_type": "markdown",
   "metadata": {
    "button": false,
    "deletable": true,
    "new_sheet": false,
    "run_control": {
     "read_only": false
    }
   },
   "source": [
    "<h3>Table of Contents</h3>\n",
    "1. Executive Summary<br>\n",
    "2. Introduction<br>\n",
    "3. Literature Review<br>\n",
    "4. Methodology<br>\n",
    "5. Results<br>\n",
    "6. Discussion<br>\n",
    "7. Conclusion<br>\n",
    "8. Acknowledgments<br>\n",
    "9. References<br>\n",
    "10. Appendix"
   ]
  },
  {
   "cell_type": "markdown",
   "metadata": {
    "button": false,
    "deletable": true,
    "new_sheet": false,
    "run_control": {
     "read_only": false
    }
   },
   "source": [
    "<h3><b><font color = orange>1. Executive Summary</font></b></h3>\n",
    "- Poland is home to Business services centers of companies from 41 countries. The city of Kraków has most of jobs in the sector with 70,000 employees, which means a 23% share in Poland. The sector created more than 56,000 jobs in Warsaw and 47,500 jobs in Wrocław. Therefore it is advantageous to <b>compare cities and recommend where other companies could setup their offices.</b><br><br>\n",
    "- In this Project I am using the Foursquare API to explore <b>Wrocław</b> and <b>Kraków</b>, evaluating infrastructure and trending restaurants using a Folium to visualize the results on interactive maps.\n"
   ]
  },
  {
   "cell_type": "markdown",
   "metadata": {
    "button": false,
    "deletable": true,
    "new_sheet": false,
    "run_control": {
     "read_only": false
    }
   },
   "source": [
    "<h3><b><font color = orange>2. Introduction</font></b></h3>\n",
    "- In this project I’ve decided to leverage <b>the Foursquare location data</b> to compare differences between the cities of  Wrocław and Kraków. Our target audience are <b>people considering to move from of  Wrocław to Kraków and work within Business services centers.</b> While evaluating venues such as restaurants and obtaining additional information about other venues we expect to provide insights about which city would represent a better choice, based on Foursquare ratings.\n"
   ]
  },
  {
   "cell_type": "markdown",
   "metadata": {
    "button": false,
    "deletable": true,
    "new_sheet": false,
    "run_control": {
     "read_only": false
    }
   },
   "source": [
    "<h3><b><font color = orange>3. Literature review</font></b></h3>\n",
    "- <a href=\"https://absl.pl/wp-content/uploads/2019/06/raport_absl_2019_EN_190602_epub.pdf\">Report “Business services sector in Poland in 2019”</a> published by the Association of Business Service Leaders I Poland. The report was done in collaboration with 200 companies with a total of 155,000 employees in their business services centers in Poland, representing 51% of all people employed in the sector, available for download.\n",
    "\n"
   ]
  },
  {
   "cell_type": "markdown",
   "metadata": {
    "button": false,
    "deletable": true,
    "new_sheet": false,
    "run_control": {
     "read_only": false
    }
   },
   "source": [
    "<h3><b><font color = orange>4. Methodoogy</font></b></h3>\n",
    "- The project is using data from the Foursquare API to solve the problem and obtain maps for Wrocław and Kraków. Other datasets are used in combination with the Foursquare location data to provide adequate explanation and discussion with examples provided below."
   ]
  },
  {
   "cell_type": "markdown",
   "metadata": {
    "button": false,
    "deletable": true,
    "new_sheet": false,
    "run_control": {
     "read_only": false
    }
   },
   "source": [
    "### Import necessary Libraries"
   ]
  },
  {
   "cell_type": "code",
   "execution_count": 1,
   "metadata": {
    "button": false,
    "collapsed": false,
    "deletable": true,
    "new_sheet": false,
    "run_control": {
     "read_only": false
    }
   },
   "outputs": [
    {
     "name": "stdout",
     "output_type": "stream",
     "text": [
      "Collecting package metadata: done\n",
      "Solving environment: | \n",
      "The environment is inconsistent, please check the package plan carefully\n",
      "The following packages are causing the inconsistency:\n",
      "\n",
      "  - defaults/linux-64::anaconda==5.3.1=py37_0\n",
      "  - defaults/linux-64::astropy==3.0.4=py37h14c3975_0\n",
      "  - defaults/linux-64::bkcharts==0.2=py37_0\n",
      "  - defaults/linux-64::blaze==0.11.3=py37_0\n",
      "  - defaults/linux-64::bokeh==0.13.0=py37_0\n",
      "  - defaults/linux-64::bottleneck==1.2.1=py37h035aef0_1\n",
      "  - defaults/linux-64::dask==0.19.1=py37_0\n",
      "  - defaults/linux-64::datashape==0.5.4=py37_1\n",
      "  - defaults/linux-64::mkl-service==1.1.2=py37h90e4bf4_5\n",
      "  - defaults/linux-64::numba==0.39.0=py37h04863e7_0\n",
      "  - defaults/linux-64::numexpr==2.6.8=py37hd89afb7_0\n",
      "  - defaults/linux-64::odo==0.5.1=py37_0\n",
      "  - defaults/linux-64::pytables==3.4.4=py37ha205bf6_0\n",
      "  - defaults/linux-64::pytest-arraydiff==0.2=py37h39e3cac_0\n",
      "  - defaults/linux-64::pytest-astropy==0.4.0=py37_0\n",
      "  - defaults/linux-64::pytest-doctestplus==0.1.3=py37_0\n",
      "  - defaults/linux-64::pywavelets==1.0.0=py37hdd07704_0\n",
      "  - defaults/linux-64::scikit-image==0.14.0=py37hf484d3e_1\n",
      "done\n",
      "\n",
      "## Package Plan ##\n",
      "\n",
      "  environment location: /home/jupyterlab/conda\n",
      "\n",
      "  added / updated specs:\n",
      "    - geopy\n",
      "\n",
      "\n",
      "The following packages will be downloaded:\n",
      "\n",
      "    package                    |            build\n",
      "    ---------------------------|-----------------\n",
      "    ca-certificates-2019.6.16  |       hecc5488_0         145 KB  conda-forge\n",
      "    certifi-2019.6.16          |           py36_0         148 KB  conda-forge\n",
      "    conda-4.7.5                |           py36_0         3.0 MB  conda-forge\n",
      "    conda-package-handling-1.3.10|           py36_0         257 KB  conda-forge\n",
      "    geographiclib-1.49         |             py_0          32 KB  conda-forge\n",
      "    geopy-1.20.0               |             py_0          57 KB  conda-forge\n",
      "    ------------------------------------------------------------\n",
      "                                           Total:         3.6 MB\n",
      "\n",
      "The following NEW packages will be INSTALLED:\n",
      "\n",
      "  conda-package-han~ conda-forge/linux-64::conda-package-handling-1.3.10-py36_0\n",
      "  geographiclib      conda-forge/noarch::geographiclib-1.49-py_0\n",
      "\n",
      "The following packages will be UPDATED:\n",
      "\n",
      "  ca-certificates                       2019.3.9-hecc5488_0 --> 2019.6.16-hecc5488_0\n",
      "  certifi                                   2019.3.9-py36_0 --> 2019.6.16-py36_0\n",
      "  conda                                       4.6.14-py36_0 --> 4.7.5-py36_0\n",
      "  geopy              conda-forge/linux-64::geopy-1.11.0-py~ --> conda-forge/noarch::geopy-1.20.0-py_0\n",
      "\n",
      "\n",
      "\n",
      "Downloading and Extracting Packages\n",
      "conda-package-handli | 257 KB    | ##################################### | 100% \n",
      "conda-4.7.5          | 3.0 MB    | ##################################### | 100% \n",
      "ca-certificates-2019 | 145 KB    | ##################################### | 100% \n",
      "geopy-1.20.0         | 57 KB     | ##################################### | 100% \n",
      "certifi-2019.6.16    | 148 KB    | ##################################### | 100% \n",
      "geographiclib-1.49   | 32 KB     | ##################################### | 100% \n",
      "Preparing transaction: done\n",
      "Verifying transaction: done\n",
      "Executing transaction: done\n",
      "WARNING conda.base.context:use_only_tar_bz2(632): Conda is constrained to only using the old .tar.bz2 file format because you have conda-build installed, and it is <3.18.3.  Update or remove conda-build to get smaller downloads and faster extractions.\n",
      "Collecting package metadata (repodata.json): done\n",
      "Solving environment: - \n",
      "The environment is inconsistent, please check the package plan carefully\n",
      "The following packages are causing the inconsistency:\n",
      "\n",
      "  - defaults/linux-64::anaconda==5.3.1=py37_0\n",
      "  - defaults/linux-64::astropy==3.0.4=py37h14c3975_0\n",
      "  - defaults/linux-64::bkcharts==0.2=py37_0\n",
      "  - defaults/linux-64::blaze==0.11.3=py37_0\n",
      "  - defaults/linux-64::bokeh==0.13.0=py37_0\n",
      "  - defaults/linux-64::bottleneck==1.2.1=py37h035aef0_1\n",
      "  - defaults/linux-64::dask==0.19.1=py37_0\n",
      "  - defaults/linux-64::datashape==0.5.4=py37_1\n",
      "  - defaults/linux-64::mkl-service==1.1.2=py37h90e4bf4_5\n",
      "  - defaults/linux-64::numba==0.39.0=py37h04863e7_0\n",
      "  - defaults/linux-64::numexpr==2.6.8=py37hd89afb7_0\n",
      "  - defaults/linux-64::odo==0.5.1=py37_0\n",
      "  - defaults/linux-64::pytables==3.4.4=py37ha205bf6_0\n",
      "  - defaults/linux-64::pytest-arraydiff==0.2=py37h39e3cac_0\n",
      "  - defaults/linux-64::pytest-astropy==0.4.0=py37_0\n",
      "  - defaults/linux-64::pytest-doctestplus==0.1.3=py37_0\n",
      "  - defaults/linux-64::pywavelets==1.0.0=py37hdd07704_0\n",
      "  - defaults/linux-64::scikit-image==0.14.0=py37hf484d3e_1\n",
      "failed\n",
      "\n",
      "UnsatisfiableError: The following specifications were found to be incompatible with each other:\n",
      "\n",
      "  - anaconda/linux-64::anaconda-navigator==1.9.7=py36_0\n",
      "  - anaconda/linux-64::graphviz==2.40.1=h21bd128_2 -> pango[version='>=1.42.1,<2.0a0']\n",
      "  - anaconda/linux-64::importlib_metadata==0.8=py36_0\n",
      "  - anaconda/linux-64::lxml==4.3.0=py36hefd8a0e_0\n",
      "  - anaconda/linux-64::mkl_fft==1.0.6=py36h7dd41cf_0 -> mkl[version='>=2018.0.3']\n",
      "  - anaconda/linux-64::mkl_random==1.0.1=py36h4414c95_1 -> mkl[version='>=2018.0.3']\n",
      "  - anaconda/linux-64::navigator-updater==0.2.1=py36_0\n",
      "  - anaconda/linux-64::numpy-base==1.15.4=py36h81de0dd_0 -> mkl[version='>=2018.0.3']\n",
      "  - anaconda/linux-64::numpy==1.15.4=py36h1d66e8a_0 -> mkl[version='>=2018.0.3']\n",
      "  - anaconda/linux-64::pytorch==0.4.1=py36ha74772b_0 -> mkl[version='>=2018.0.3']\n",
      "  - anaconda/linux-64::scikit-learn==0.20.1=py36h4989274_0 -> mkl[version='>=2018.0.3']\n",
      "  - anaconda/linux-64::scipy==1.1.0=py36hfa4b5c9_1 -> mkl[version='>=2018.0.3']\n",
      "  - anaconda/linux-64::spyder==3.3.4=py36_0\n",
      "  - anaconda/linux-64::sympy==1.4=py36_0\n",
      "  - anaconda/linux-64::torchvision==0.2.1=py36_0 -> pytorch[version='>=0.4'] -> mkl[version='>=2019.1,<2020.0a0']\n",
      "  - anaconda/noarch::openpyxl==2.6.2=py_0\n",
      "  - anaconda/noarch::path.py==12.0.1=py_0 -> importlib_metadata[version='>=0.5']\n",
      "  - anaconda/noarch::xlsxwriter==1.1.6=py_0\n",
      "  - mkl-service -> mkl[version='>=2019.4,<2020.0a0']\n",
      "  - pkgs/main/linux-64::mkl==2019.0=118\n",
      "  - pkgs/main/linux-64::pango==1.42.4=h049681c_0\n",
      "\n",
      "\n",
      "\n",
      "Folium installed\n",
      "Libraries imported.\n"
     ]
    }
   ],
   "source": [
    "import requests # library to handle requests\n",
    "import pandas as pd # library for data analsysis\n",
    "import numpy as np # library to handle data in a vectorized manner\n",
    "import random # library for random number generation\n",
    "\n",
    "!conda install -c conda-forge geopy --yes \n",
    "from geopy.geocoders import Nominatim # module to convert an address into latitude and longitude values\n",
    "\n",
    "# libraries for displaying images\n",
    "from IPython.display import Image \n",
    "from IPython.core.display import HTML \n",
    "    \n",
    "# tranforming json file into a pandas dataframe library\n",
    "from pandas.io.json import json_normalize\n",
    "\n",
    "!conda install -c conda-forge folium=0.5.0 --yes\n",
    "import folium # plotting library\n",
    "\n",
    "print('Folium installed')\n",
    "print('Libraries imported.')"
   ]
  },
  {
   "cell_type": "markdown",
   "metadata": {
    "button": false,
    "deletable": true,
    "new_sheet": false,
    "run_control": {
     "read_only": false
    }
   },
   "source": [
    "### Define Foursquare Credentials and Version"
   ]
  },
  {
   "cell_type": "markdown",
   "metadata": {
    "button": false,
    "deletable": true,
    "new_sheet": false,
    "run_control": {
     "read_only": false
    }
   },
   "source": [
    "##### Make sure that you have created a Foursquare developer account and have your credentials handy"
   ]
  },
  {
   "cell_type": "code",
   "execution_count": 2,
   "metadata": {
    "button": false,
    "collapsed": false,
    "deletable": true,
    "new_sheet": false,
    "run_control": {
     "read_only": false
    }
   },
   "outputs": [
    {
     "name": "stdout",
     "output_type": "stream",
     "text": [
      "Your credentails:\n",
      "CLIENT_ID: Y3UR25IN0Z0FBV3QJDLIAZW0WUWYKUDCQV31SQEQLTBDKU42\n",
      "CLIENT_SECRET:JIZCJMER50TE5QXIQBZOSBQQGS5LQHNNCMUCAE4G2BHBYIIX\n"
     ]
    }
   ],
   "source": [
    "CLIENT_ID = 'Y3UR25IN0Z0FBV3QJDLIAZW0WUWYKUDCQV31SQEQLTBDKU42' # your Foursquare ID\n",
    "CLIENT_SECRET = 'JIZCJMER50TE5QXIQBZOSBQQGS5LQHNNCMUCAE4G2BHBYIIX' # your Foursquare Secret\n",
    "VERSION = '20180604'\n",
    "LIMIT = 30\n",
    "print('Your credentails:')\n",
    "print('CLIENT_ID: ' + CLIENT_ID)\n",
    "print('CLIENT_SECRET:' + CLIENT_SECRET)"
   ]
  },
  {
   "cell_type": "markdown",
   "metadata": {
    "button": false,
    "deletable": true,
    "new_sheet": false,
    "run_control": {
     "read_only": false
    }
   },
   "source": [
    "  "
   ]
  },
  {
   "cell_type": "markdown",
   "metadata": {
    "button": false,
    "deletable": true,
    "new_sheet": false,
    "run_control": {
     "read_only": false
    }
   },
   "source": [
    "#### We are looking at recommendations where other companies could setup their offices in two cities. We will first check near the Market square in the city of Wroclaw, obtaining latitude and longitude coordinates."
   ]
  },
  {
   "cell_type": "markdown",
   "metadata": {},
   "source": [
    "In order to define an instance of the geocoder, we need to define a user_agent. We will name our agent <em>foursquare_agent</em>, as shown below."
   ]
  },
  {
   "cell_type": "code",
   "execution_count": 3,
   "metadata": {
    "button": false,
    "collapsed": false,
    "deletable": true,
    "new_sheet": false,
    "run_control": {
     "read_only": false
    }
   },
   "outputs": [
    {
     "name": "stdout",
     "output_type": "stream",
     "text": [
      "51.1089776 17.0326689\n"
     ]
    }
   ],
   "source": [
    "address = 'Market square Wroclaw'\n",
    "\n",
    "geolocator = Nominatim(user_agent=\"foursquare_agent\")\n",
    "location = geolocator.geocode(address)\n",
    "latitude = location.latitude\n",
    "longitude = location.longitude\n",
    "print(latitude, longitude)"
   ]
  },
  {
   "cell_type": "markdown",
   "metadata": {
    "button": false,
    "deletable": true,
    "new_sheet": false,
    "run_control": {
     "read_only": false
    }
   },
   "source": [
    "   "
   ]
  },
  {
   "cell_type": "markdown",
   "metadata": {
    "button": false,
    "deletable": true,
    "new_sheet": false,
    "run_control": {
     "read_only": false
    }
   },
   "source": [
    "<a id=\"item1\"></a>"
   ]
  },
  {
   "cell_type": "markdown",
   "metadata": {
    "button": false,
    "deletable": true,
    "new_sheet": false,
    "run_control": {
     "read_only": false
    }
   },
   "source": [
    "## 1. Search for a specific venue category\n",
    "> `https://api.foursquare.com/v2/venues/`**search**`?client_id=`**CLIENT_ID**`&client_secret=`**CLIENT_SECRET**`&ll=`**LATITUDE**`,`**LONGITUDE**`&v=`**VERSION**`&query=`**QUERY**`&radius=`**RADIUS**`&limit=`**LIMIT**"
   ]
  },
  {
   "cell_type": "markdown",
   "metadata": {
    "button": false,
    "deletable": true,
    "new_sheet": false,
    "run_control": {
     "read_only": false
    }
   },
   "source": [
    "#### Now, let's assume that it is lunch time, and you are craving Italian food. So, let's define a query to search for Italian food that is within 500 metres from the Conrad Hotel. "
   ]
  },
  {
   "cell_type": "code",
   "execution_count": 4,
   "metadata": {
    "button": false,
    "collapsed": false,
    "deletable": true,
    "new_sheet": false,
    "run_control": {
     "read_only": false
    },
    "scrolled": true
   },
   "outputs": [
    {
     "name": "stdout",
     "output_type": "stream",
     "text": [
      "Sushi .... OK!\n"
     ]
    }
   ],
   "source": [
    "search_query = 'Sushi'\n",
    "radius = 500\n",
    "print(search_query + ' .... OK!')"
   ]
  },
  {
   "cell_type": "markdown",
   "metadata": {
    "button": false,
    "deletable": true,
    "new_sheet": false,
    "run_control": {
     "read_only": false
    }
   },
   "source": [
    "#### Define the corresponding URL"
   ]
  },
  {
   "cell_type": "code",
   "execution_count": 5,
   "metadata": {
    "button": false,
    "collapsed": false,
    "deletable": true,
    "new_sheet": false,
    "run_control": {
     "read_only": false
    }
   },
   "outputs": [
    {
     "data": {
      "text/plain": [
       "'https://api.foursquare.com/v2/venues/search?client_id=Y3UR25IN0Z0FBV3QJDLIAZW0WUWYKUDCQV31SQEQLTBDKU42&client_secret=JIZCJMER50TE5QXIQBZOSBQQGS5LQHNNCMUCAE4G2BHBYIIX&ll=51.1089776,17.0326689&v=20180604&query=Sushi&radius=500&limit=30'"
      ]
     },
     "execution_count": 5,
     "metadata": {},
     "output_type": "execute_result"
    }
   ],
   "source": [
    "url = 'https://api.foursquare.com/v2/venues/search?client_id={}&client_secret={}&ll={},{}&v={}&query={}&radius={}&limit={}'.format(CLIENT_ID, CLIENT_SECRET, latitude, longitude, VERSION, search_query, radius, LIMIT)\n",
    "url"
   ]
  },
  {
   "cell_type": "markdown",
   "metadata": {
    "button": false,
    "deletable": true,
    "new_sheet": false,
    "run_control": {
     "read_only": false
    }
   },
   "source": [
    "#### Send the GET Request and examine the results"
   ]
  },
  {
   "cell_type": "code",
   "execution_count": 6,
   "metadata": {
    "button": false,
    "collapsed": false,
    "deletable": true,
    "new_sheet": false,
    "run_control": {
     "read_only": false
    },
    "scrolled": true
   },
   "outputs": [
    {
     "data": {
      "text/plain": [
       "{'meta': {'code': 200, 'requestId': '5d12110fe97dfb002c5dbcd6'},\n",
       " 'response': {'venues': [{'id': '4d766861b483a09368629005',\n",
       "    'name': '77 Sushi',\n",
       "    'location': {'address': 'ul. Nożownicza 1C',\n",
       "     'lat': 51.11285710355397,\n",
       "     'lng': 17.031796067563022,\n",
       "     'labeledLatLngs': [{'label': 'display',\n",
       "       'lat': 51.11285710355397,\n",
       "       'lng': 17.031796067563022}],\n",
       "     'distance': 436,\n",
       "     'postalCode': '50-119',\n",
       "     'cc': 'PL',\n",
       "     'city': 'Wrocław',\n",
       "     'state': 'Województwo dolnośląskie',\n",
       "     'country': 'Polska',\n",
       "     'formattedAddress': ['ul. Nożownicza 1C', '50-119 Wrocław', 'Polska']},\n",
       "    'categories': [{'id': '4bf58dd8d48988d1d2941735',\n",
       "      'name': 'Sushi Restaurant',\n",
       "      'pluralName': 'Sushi Restaurants',\n",
       "      'shortName': 'Sushi',\n",
       "      'icon': {'prefix': 'https://ss3.4sqi.net/img/categories_v2/food/sushi_',\n",
       "       'suffix': '.png'},\n",
       "      'primary': True}],\n",
       "    'referralId': 'v-1561465103',\n",
       "    'hasPerk': False},\n",
       "   {'id': '4c28ce88e19720a11b79f858',\n",
       "    'name': 'Sakana Sushi Bar',\n",
       "    'location': {'address': 'Odrzańska 17/1a',\n",
       "     'lat': 51.11287541668924,\n",
       "     'lng': 17.03174317323597,\n",
       "     'labeledLatLngs': [{'label': 'display',\n",
       "       'lat': 51.11287541668924,\n",
       "       'lng': 17.03174317323597}],\n",
       "     'distance': 438,\n",
       "     'cc': 'PL',\n",
       "     'city': 'Wrocław',\n",
       "     'state': 'Województwo dolnośląskie',\n",
       "     'country': 'Polska',\n",
       "     'formattedAddress': ['Odrzańska 17/1a', 'Wrocław', 'Polska']},\n",
       "    'categories': [{'id': '4bf58dd8d48988d1d2941735',\n",
       "      'name': 'Sushi Restaurant',\n",
       "      'pluralName': 'Sushi Restaurants',\n",
       "      'shortName': 'Sushi',\n",
       "      'icon': {'prefix': 'https://ss3.4sqi.net/img/categories_v2/food/sushi_',\n",
       "       'suffix': '.png'},\n",
       "      'primary': True}],\n",
       "    'referralId': 'v-1561465103',\n",
       "    'hasPerk': False},\n",
       "   {'id': '51cd9d02498e7d6ae1bcd801',\n",
       "    'name': 'Sushi Takai',\n",
       "    'location': {'address': 'Rzeźnicza 34/1D',\n",
       "     'crossStreet': 'Ruska',\n",
       "     'lat': 51.110331007489336,\n",
       "     'lng': 17.027760879436215,\n",
       "     'labeledLatLngs': [{'label': 'display',\n",
       "       'lat': 51.110331007489336,\n",
       "       'lng': 17.027760879436215}],\n",
       "     'distance': 374,\n",
       "     'postalCode': '50-130',\n",
       "     'cc': 'PL',\n",
       "     'city': 'Wrocław',\n",
       "     'state': 'Województwo dolnośląskie',\n",
       "     'country': 'Polska',\n",
       "     'formattedAddress': ['Rzeźnicza 34/1D (Ruska)',\n",
       "      '50-130 Wrocław',\n",
       "      'Polska']},\n",
       "    'categories': [{'id': '4bf58dd8d48988d1d2941735',\n",
       "      'name': 'Sushi Restaurant',\n",
       "      'pluralName': 'Sushi Restaurants',\n",
       "      'shortName': 'Sushi',\n",
       "      'icon': {'prefix': 'https://ss3.4sqi.net/img/categories_v2/food/sushi_',\n",
       "       'suffix': '.png'},\n",
       "      'primary': True}],\n",
       "    'referralId': 'v-1561465103',\n",
       "    'hasPerk': False},\n",
       "   {'id': '4f0eed61e4b04a8cd91df7e2',\n",
       "    'name': 'Michiko Sushi Roll',\n",
       "    'location': {'address': 'Odrzańska 1',\n",
       "     'lat': 51.11152461814552,\n",
       "     'lng': 17.03084490915428,\n",
       "     'labeledLatLngs': [{'label': 'display',\n",
       "       'lat': 51.11152461814552,\n",
       "       'lng': 17.03084490915428}],\n",
       "     'distance': 310,\n",
       "     'postalCode': '50-113',\n",
       "     'cc': 'PL',\n",
       "     'city': 'Wrocław',\n",
       "     'state': 'Województwo dolnośląskie',\n",
       "     'country': 'Polska',\n",
       "     'formattedAddress': ['Odrzańska 1', '50-113 Wrocław', 'Polska']},\n",
       "    'categories': [{'id': '4bf58dd8d48988d1d2941735',\n",
       "      'name': 'Sushi Restaurant',\n",
       "      'pluralName': 'Sushi Restaurants',\n",
       "      'shortName': 'Sushi',\n",
       "      'icon': {'prefix': 'https://ss3.4sqi.net/img/categories_v2/food/sushi_',\n",
       "       'suffix': '.png'},\n",
       "      'primary': True}],\n",
       "    'referralId': 'v-1561465103',\n",
       "    'hasPerk': False},\n",
       "   {'id': '52bb3704498e894d89ba5456',\n",
       "    'name': 'Sushi Planet',\n",
       "    'location': {'address': 'Rynek 46/47, Wroclaw, Poland',\n",
       "     'lat': 51.110704,\n",
       "     'lng': 17.032869699999992,\n",
       "     'labeledLatLngs': [{'label': 'display',\n",
       "       'lat': 51.110704,\n",
       "       'lng': 17.032869699999992}],\n",
       "     'distance': 192,\n",
       "     'cc': 'PL',\n",
       "     'country': 'Polska',\n",
       "     'formattedAddress': ['Rynek 46/47, Wroclaw, Poland', 'Polska']},\n",
       "    'categories': [],\n",
       "    'referralId': 'v-1561465103',\n",
       "    'hasPerk': False},\n",
       "   {'id': '57127013498e87c71ff3cfdf',\n",
       "    'name': 'Sushirolka',\n",
       "    'location': {'address': 'Kuźnicza 25',\n",
       "     'lat': 51.11228757802861,\n",
       "     'lng': 17.034342716202346,\n",
       "     'labeledLatLngs': [{'label': 'display',\n",
       "       'lat': 51.11228757802861,\n",
       "       'lng': 17.034342716202346}],\n",
       "     'distance': 386,\n",
       "     'postalCode': '50-138',\n",
       "     'cc': 'PL',\n",
       "     'city': 'Wrocław',\n",
       "     'state': 'Województwo dolnośląskie',\n",
       "     'country': 'Polska',\n",
       "     'formattedAddress': ['Kuźnicza 25', '50-138 Wrocław', 'Polska']},\n",
       "    'categories': [{'id': '4bf58dd8d48988d1d2941735',\n",
       "      'name': 'Sushi Restaurant',\n",
       "      'pluralName': 'Sushi Restaurants',\n",
       "      'shortName': 'Sushi',\n",
       "      'icon': {'prefix': 'https://ss3.4sqi.net/img/categories_v2/food/sushi_',\n",
       "       'suffix': '.png'},\n",
       "      'primary': True}],\n",
       "    'referralId': 'v-1561465103',\n",
       "    'hasPerk': False},\n",
       "   {'id': '529dcf28498eb70ed26a3421',\n",
       "    'name': 'Sushi & Martini',\n",
       "    'location': {'lat': 51.111317,\n",
       "     'lng': 17.029686,\n",
       "     'labeledLatLngs': [{'label': 'display',\n",
       "       'lat': 51.111317,\n",
       "       'lng': 17.029686}],\n",
       "     'distance': 333,\n",
       "     'cc': 'PL',\n",
       "     'country': 'Polska',\n",
       "     'formattedAddress': ['Polska']},\n",
       "    'categories': [{'id': '4bf58dd8d48988d1d2941735',\n",
       "      'name': 'Sushi Restaurant',\n",
       "      'pluralName': 'Sushi Restaurants',\n",
       "      'shortName': 'Sushi',\n",
       "      'icon': {'prefix': 'https://ss3.4sqi.net/img/categories_v2/food/sushi_',\n",
       "       'suffix': '.png'},\n",
       "      'primary': True}],\n",
       "    'referralId': 'v-1561465103',\n",
       "    'hasPerk': False},\n",
       "   {'id': '5509d10b498e9952c203d166',\n",
       "    'name': 'KOBO SUSHI',\n",
       "    'location': {'address': 'Rynek 46/47',\n",
       "     'lat': 51.11050948756854,\n",
       "     'lng': 17.032841763857547,\n",
       "     'labeledLatLngs': [{'label': 'display',\n",
       "       'lat': 51.11050948756854,\n",
       "       'lng': 17.032841763857547}],\n",
       "     'distance': 170,\n",
       "     'postalCode': '50-116',\n",
       "     'cc': 'PL',\n",
       "     'city': 'Wrocław',\n",
       "     'state': 'Województwo dolnośląskie',\n",
       "     'country': 'Polska',\n",
       "     'formattedAddress': ['Rynek 46/47', '50-116 Wrocław', 'Polska']},\n",
       "    'categories': [{'id': '4bf58dd8d48988d1d2941735',\n",
       "      'name': 'Sushi Restaurant',\n",
       "      'pluralName': 'Sushi Restaurants',\n",
       "      'shortName': 'Sushi',\n",
       "      'icon': {'prefix': 'https://ss3.4sqi.net/img/categories_v2/food/sushi_',\n",
       "       'suffix': '.png'},\n",
       "      'primary': True}],\n",
       "    'venuePage': {'id': '123559124'},\n",
       "    'referralId': 'v-1561465103',\n",
       "    'hasPerk': False},\n",
       "   {'id': '5cf5764ca2c00b002cf650d2',\n",
       "    'name': 'Sushi Lovers',\n",
       "    'location': {'address': '20 Odrzańska',\n",
       "     'lat': 51.113216,\n",
       "     'lng': 17.031418,\n",
       "     'labeledLatLngs': [{'label': 'display',\n",
       "       'lat': 51.113216,\n",
       "       'lng': 17.031418}],\n",
       "     'distance': 479,\n",
       "     'postalCode': '50-114',\n",
       "     'cc': 'PL',\n",
       "     'city': 'Вроцлав',\n",
       "     'state': 'Нижняя Силезия',\n",
       "     'country': 'Polska',\n",
       "     'formattedAddress': ['20 Odrzańska', '50-114 Вроцлав', 'Polska']},\n",
       "    'categories': [{'id': '4bf58dd8d48988d1d2941735',\n",
       "      'name': 'Sushi Restaurant',\n",
       "      'pluralName': 'Sushi Restaurants',\n",
       "      'shortName': 'Sushi',\n",
       "      'icon': {'prefix': 'https://ss3.4sqi.net/img/categories_v2/food/sushi_',\n",
       "       'suffix': '.png'},\n",
       "      'primary': True}],\n",
       "    'referralId': 'v-1561465103',\n",
       "    'hasPerk': False},\n",
       "   {'id': '577a3fdd498ec5cc1b3d8b5f',\n",
       "    'name': 'Wasabi Sushi Shop',\n",
       "    'location': {'address': 'Biskupia 4b',\n",
       "     'crossStreet': 'Oławska',\n",
       "     'lat': 51.109033,\n",
       "     'lng': 17.036819,\n",
       "     'labeledLatLngs': [{'label': 'display',\n",
       "       'lat': 51.109033,\n",
       "       'lng': 17.036819}],\n",
       "     'distance': 290,\n",
       "     'postalCode': '50-148',\n",
       "     'cc': 'PL',\n",
       "     'city': 'Wroclaw',\n",
       "     'state': 'Lower Silesia',\n",
       "     'country': 'Polska',\n",
       "     'formattedAddress': ['Biskupia 4b (Oławska)',\n",
       "      '50-148 Wroclaw',\n",
       "      'Polska']},\n",
       "    'categories': [{'id': '4bf58dd8d48988d118951735',\n",
       "      'name': 'Grocery Store',\n",
       "      'pluralName': 'Grocery Stores',\n",
       "      'shortName': 'Grocery Store',\n",
       "      'icon': {'prefix': 'https://ss3.4sqi.net/img/categories_v2/shops/food_grocery_',\n",
       "       'suffix': '.png'},\n",
       "      'primary': True}],\n",
       "    'referralId': 'v-1561465103',\n",
       "    'hasPerk': False},\n",
       "   {'id': '4c936af0d2e1a143d696d226',\n",
       "    'name': 'Hana Sushi',\n",
       "    'location': {'address': 'Plac Tadeusza Kościuszki 15–19',\n",
       "     'crossStreet': 'Renoma CH',\n",
       "     'lat': 51.10399430542239,\n",
       "     'lng': 17.031966156830034,\n",
       "     'labeledLatLngs': [{'label': 'display',\n",
       "       'lat': 51.10399430542239,\n",
       "       'lng': 17.031966156830034}],\n",
       "     'distance': 556,\n",
       "     'postalCode': '50-027',\n",
       "     'cc': 'PL',\n",
       "     'city': 'Wrocław',\n",
       "     'state': 'Województwo dolnośląskie',\n",
       "     'country': 'Polska',\n",
       "     'formattedAddress': ['Plac Tadeusza Kościuszki 15–19 (Renoma CH)',\n",
       "      '50-027 Wrocław',\n",
       "      'Polska']},\n",
       "    'categories': [{'id': '4bf58dd8d48988d1d2941735',\n",
       "      'name': 'Sushi Restaurant',\n",
       "      'pluralName': 'Sushi Restaurants',\n",
       "      'shortName': 'Sushi',\n",
       "      'icon': {'prefix': 'https://ss3.4sqi.net/img/categories_v2/food/sushi_',\n",
       "       'suffix': '.png'},\n",
       "      'primary': True}],\n",
       "    'referralId': 'v-1561465103',\n",
       "    'hasPerk': False},\n",
       "   {'id': '4c4c2c20f7cc1b8ddc1aed40',\n",
       "    'name': 'Szajnochy 11',\n",
       "    'location': {'address': 'Szajnocha 11',\n",
       "     'lat': 51.108176718716564,\n",
       "     'lng': 17.028726430400464,\n",
       "     'labeledLatLngs': [{'label': 'display',\n",
       "       'lat': 51.108176718716564,\n",
       "       'lng': 17.028726430400464}],\n",
       "     'distance': 289,\n",
       "     'postalCode': '50-073',\n",
       "     'cc': 'PL',\n",
       "     'city': 'Wrocław',\n",
       "     'state': 'Województwo dolnośląskie',\n",
       "     'country': 'Polska',\n",
       "     'formattedAddress': ['Szajnocha 11', '50-073 Wrocław', 'Polska']},\n",
       "    'categories': [{'id': '4bf58dd8d48988d1d2941735',\n",
       "      'name': 'Sushi Restaurant',\n",
       "      'pluralName': 'Sushi Restaurants',\n",
       "      'shortName': 'Sushi',\n",
       "      'icon': {'prefix': 'https://ss3.4sqi.net/img/categories_v2/food/sushi_',\n",
       "       'suffix': '.png'},\n",
       "      'primary': True}],\n",
       "    'referralId': 'v-1561465103',\n",
       "    'hasPerk': False}]}}"
      ]
     },
     "execution_count": 6,
     "metadata": {},
     "output_type": "execute_result"
    }
   ],
   "source": [
    "results = requests.get(url).json()\n",
    "results"
   ]
  },
  {
   "cell_type": "markdown",
   "metadata": {
    "button": false,
    "deletable": true,
    "new_sheet": false,
    "run_control": {
     "read_only": false
    }
   },
   "source": [
    "#### Get relevant part of JSON and transform it into a *pandas* dataframe"
   ]
  },
  {
   "cell_type": "code",
   "execution_count": 7,
   "metadata": {
    "button": false,
    "collapsed": false,
    "deletable": true,
    "new_sheet": false,
    "run_control": {
     "read_only": false
    }
   },
   "outputs": [
    {
     "data": {
      "text/html": [
       "<div>\n",
       "<style scoped>\n",
       "    .dataframe tbody tr th:only-of-type {\n",
       "        vertical-align: middle;\n",
       "    }\n",
       "\n",
       "    .dataframe tbody tr th {\n",
       "        vertical-align: top;\n",
       "    }\n",
       "\n",
       "    .dataframe thead th {\n",
       "        text-align: right;\n",
       "    }\n",
       "</style>\n",
       "<table border=\"1\" class=\"dataframe\">\n",
       "  <thead>\n",
       "    <tr style=\"text-align: right;\">\n",
       "      <th></th>\n",
       "      <th>categories</th>\n",
       "      <th>hasPerk</th>\n",
       "      <th>id</th>\n",
       "      <th>location.address</th>\n",
       "      <th>location.cc</th>\n",
       "      <th>location.city</th>\n",
       "      <th>location.country</th>\n",
       "      <th>location.crossStreet</th>\n",
       "      <th>location.distance</th>\n",
       "      <th>location.formattedAddress</th>\n",
       "      <th>location.labeledLatLngs</th>\n",
       "      <th>location.lat</th>\n",
       "      <th>location.lng</th>\n",
       "      <th>location.postalCode</th>\n",
       "      <th>location.state</th>\n",
       "      <th>name</th>\n",
       "      <th>referralId</th>\n",
       "      <th>venuePage.id</th>\n",
       "    </tr>\n",
       "  </thead>\n",
       "  <tbody>\n",
       "    <tr>\n",
       "      <th>0</th>\n",
       "      <td>[{'id': '4bf58dd8d48988d1d2941735', 'name': 'S...</td>\n",
       "      <td>False</td>\n",
       "      <td>4d766861b483a09368629005</td>\n",
       "      <td>ul. Nożownicza 1C</td>\n",
       "      <td>PL</td>\n",
       "      <td>Wrocław</td>\n",
       "      <td>Polska</td>\n",
       "      <td>NaN</td>\n",
       "      <td>436</td>\n",
       "      <td>[ul. Nożownicza 1C, 50-119 Wrocław, Polska]</td>\n",
       "      <td>[{'label': 'display', 'lat': 51.11285710355397...</td>\n",
       "      <td>51.112857</td>\n",
       "      <td>17.031796</td>\n",
       "      <td>50-119</td>\n",
       "      <td>Województwo dolnośląskie</td>\n",
       "      <td>77 Sushi</td>\n",
       "      <td>v-1561465103</td>\n",
       "      <td>NaN</td>\n",
       "    </tr>\n",
       "    <tr>\n",
       "      <th>1</th>\n",
       "      <td>[{'id': '4bf58dd8d48988d1d2941735', 'name': 'S...</td>\n",
       "      <td>False</td>\n",
       "      <td>4c28ce88e19720a11b79f858</td>\n",
       "      <td>Odrzańska 17/1a</td>\n",
       "      <td>PL</td>\n",
       "      <td>Wrocław</td>\n",
       "      <td>Polska</td>\n",
       "      <td>NaN</td>\n",
       "      <td>438</td>\n",
       "      <td>[Odrzańska 17/1a, Wrocław, Polska]</td>\n",
       "      <td>[{'label': 'display', 'lat': 51.11287541668924...</td>\n",
       "      <td>51.112875</td>\n",
       "      <td>17.031743</td>\n",
       "      <td>NaN</td>\n",
       "      <td>Województwo dolnośląskie</td>\n",
       "      <td>Sakana Sushi Bar</td>\n",
       "      <td>v-1561465103</td>\n",
       "      <td>NaN</td>\n",
       "    </tr>\n",
       "    <tr>\n",
       "      <th>2</th>\n",
       "      <td>[{'id': '4bf58dd8d48988d1d2941735', 'name': 'S...</td>\n",
       "      <td>False</td>\n",
       "      <td>51cd9d02498e7d6ae1bcd801</td>\n",
       "      <td>Rzeźnicza 34/1D</td>\n",
       "      <td>PL</td>\n",
       "      <td>Wrocław</td>\n",
       "      <td>Polska</td>\n",
       "      <td>Ruska</td>\n",
       "      <td>374</td>\n",
       "      <td>[Rzeźnicza 34/1D (Ruska), 50-130 Wrocław, Polska]</td>\n",
       "      <td>[{'label': 'display', 'lat': 51.11033100748933...</td>\n",
       "      <td>51.110331</td>\n",
       "      <td>17.027761</td>\n",
       "      <td>50-130</td>\n",
       "      <td>Województwo dolnośląskie</td>\n",
       "      <td>Sushi Takai</td>\n",
       "      <td>v-1561465103</td>\n",
       "      <td>NaN</td>\n",
       "    </tr>\n",
       "    <tr>\n",
       "      <th>3</th>\n",
       "      <td>[{'id': '4bf58dd8d48988d1d2941735', 'name': 'S...</td>\n",
       "      <td>False</td>\n",
       "      <td>4f0eed61e4b04a8cd91df7e2</td>\n",
       "      <td>Odrzańska 1</td>\n",
       "      <td>PL</td>\n",
       "      <td>Wrocław</td>\n",
       "      <td>Polska</td>\n",
       "      <td>NaN</td>\n",
       "      <td>310</td>\n",
       "      <td>[Odrzańska 1, 50-113 Wrocław, Polska]</td>\n",
       "      <td>[{'label': 'display', 'lat': 51.11152461814552...</td>\n",
       "      <td>51.111525</td>\n",
       "      <td>17.030845</td>\n",
       "      <td>50-113</td>\n",
       "      <td>Województwo dolnośląskie</td>\n",
       "      <td>Michiko Sushi Roll</td>\n",
       "      <td>v-1561465103</td>\n",
       "      <td>NaN</td>\n",
       "    </tr>\n",
       "    <tr>\n",
       "      <th>4</th>\n",
       "      <td>[]</td>\n",
       "      <td>False</td>\n",
       "      <td>52bb3704498e894d89ba5456</td>\n",
       "      <td>Rynek 46/47, Wroclaw, Poland</td>\n",
       "      <td>PL</td>\n",
       "      <td>NaN</td>\n",
       "      <td>Polska</td>\n",
       "      <td>NaN</td>\n",
       "      <td>192</td>\n",
       "      <td>[Rynek 46/47, Wroclaw, Poland, Polska]</td>\n",
       "      <td>[{'label': 'display', 'lat': 51.110704, 'lng':...</td>\n",
       "      <td>51.110704</td>\n",
       "      <td>17.032870</td>\n",
       "      <td>NaN</td>\n",
       "      <td>NaN</td>\n",
       "      <td>Sushi Planet</td>\n",
       "      <td>v-1561465103</td>\n",
       "      <td>NaN</td>\n",
       "    </tr>\n",
       "  </tbody>\n",
       "</table>\n",
       "</div>"
      ],
      "text/plain": [
       "                                          categories  hasPerk  \\\n",
       "0  [{'id': '4bf58dd8d48988d1d2941735', 'name': 'S...    False   \n",
       "1  [{'id': '4bf58dd8d48988d1d2941735', 'name': 'S...    False   \n",
       "2  [{'id': '4bf58dd8d48988d1d2941735', 'name': 'S...    False   \n",
       "3  [{'id': '4bf58dd8d48988d1d2941735', 'name': 'S...    False   \n",
       "4                                                 []    False   \n",
       "\n",
       "                         id              location.address location.cc  \\\n",
       "0  4d766861b483a09368629005             ul. Nożownicza 1C          PL   \n",
       "1  4c28ce88e19720a11b79f858               Odrzańska 17/1a          PL   \n",
       "2  51cd9d02498e7d6ae1bcd801               Rzeźnicza 34/1D          PL   \n",
       "3  4f0eed61e4b04a8cd91df7e2                   Odrzańska 1          PL   \n",
       "4  52bb3704498e894d89ba5456  Rynek 46/47, Wroclaw, Poland          PL   \n",
       "\n",
       "  location.city location.country location.crossStreet  location.distance  \\\n",
       "0       Wrocław           Polska                  NaN                436   \n",
       "1       Wrocław           Polska                  NaN                438   \n",
       "2       Wrocław           Polska                Ruska                374   \n",
       "3       Wrocław           Polska                  NaN                310   \n",
       "4           NaN           Polska                  NaN                192   \n",
       "\n",
       "                           location.formattedAddress  \\\n",
       "0        [ul. Nożownicza 1C, 50-119 Wrocław, Polska]   \n",
       "1                 [Odrzańska 17/1a, Wrocław, Polska]   \n",
       "2  [Rzeźnicza 34/1D (Ruska), 50-130 Wrocław, Polska]   \n",
       "3              [Odrzańska 1, 50-113 Wrocław, Polska]   \n",
       "4             [Rynek 46/47, Wroclaw, Poland, Polska]   \n",
       "\n",
       "                             location.labeledLatLngs  location.lat  \\\n",
       "0  [{'label': 'display', 'lat': 51.11285710355397...     51.112857   \n",
       "1  [{'label': 'display', 'lat': 51.11287541668924...     51.112875   \n",
       "2  [{'label': 'display', 'lat': 51.11033100748933...     51.110331   \n",
       "3  [{'label': 'display', 'lat': 51.11152461814552...     51.111525   \n",
       "4  [{'label': 'display', 'lat': 51.110704, 'lng':...     51.110704   \n",
       "\n",
       "   location.lng location.postalCode            location.state  \\\n",
       "0     17.031796              50-119  Województwo dolnośląskie   \n",
       "1     17.031743                 NaN  Województwo dolnośląskie   \n",
       "2     17.027761              50-130  Województwo dolnośląskie   \n",
       "3     17.030845              50-113  Województwo dolnośląskie   \n",
       "4     17.032870                 NaN                       NaN   \n",
       "\n",
       "                 name    referralId venuePage.id  \n",
       "0            77 Sushi  v-1561465103          NaN  \n",
       "1    Sakana Sushi Bar  v-1561465103          NaN  \n",
       "2         Sushi Takai  v-1561465103          NaN  \n",
       "3  Michiko Sushi Roll  v-1561465103          NaN  \n",
       "4        Sushi Planet  v-1561465103          NaN  "
      ]
     },
     "execution_count": 7,
     "metadata": {},
     "output_type": "execute_result"
    }
   ],
   "source": [
    "# assign relevant part of JSON to venues\n",
    "venues = results['response']['venues']\n",
    "\n",
    "# tranform venues into a dataframe\n",
    "dataframe = json_normalize(venues)\n",
    "dataframe.head()"
   ]
  },
  {
   "cell_type": "markdown",
   "metadata": {
    "button": false,
    "deletable": true,
    "new_sheet": false,
    "run_control": {
     "read_only": false
    }
   },
   "source": [
    "#### Define information of interest and filter dataframe"
   ]
  },
  {
   "cell_type": "code",
   "execution_count": 8,
   "metadata": {
    "button": false,
    "collapsed": false,
    "deletable": true,
    "new_sheet": false,
    "run_control": {
     "read_only": false
    },
    "scrolled": true
   },
   "outputs": [
    {
     "data": {
      "text/html": [
       "<div>\n",
       "<style scoped>\n",
       "    .dataframe tbody tr th:only-of-type {\n",
       "        vertical-align: middle;\n",
       "    }\n",
       "\n",
       "    .dataframe tbody tr th {\n",
       "        vertical-align: top;\n",
       "    }\n",
       "\n",
       "    .dataframe thead th {\n",
       "        text-align: right;\n",
       "    }\n",
       "</style>\n",
       "<table border=\"1\" class=\"dataframe\">\n",
       "  <thead>\n",
       "    <tr style=\"text-align: right;\">\n",
       "      <th></th>\n",
       "      <th>name</th>\n",
       "      <th>categories</th>\n",
       "      <th>address</th>\n",
       "      <th>cc</th>\n",
       "      <th>city</th>\n",
       "      <th>country</th>\n",
       "      <th>crossStreet</th>\n",
       "      <th>distance</th>\n",
       "      <th>formattedAddress</th>\n",
       "      <th>labeledLatLngs</th>\n",
       "      <th>lat</th>\n",
       "      <th>lng</th>\n",
       "      <th>postalCode</th>\n",
       "      <th>state</th>\n",
       "      <th>id</th>\n",
       "    </tr>\n",
       "  </thead>\n",
       "  <tbody>\n",
       "    <tr>\n",
       "      <th>0</th>\n",
       "      <td>77 Sushi</td>\n",
       "      <td>Sushi Restaurant</td>\n",
       "      <td>ul. Nożownicza 1C</td>\n",
       "      <td>PL</td>\n",
       "      <td>Wrocław</td>\n",
       "      <td>Polska</td>\n",
       "      <td>NaN</td>\n",
       "      <td>436</td>\n",
       "      <td>[ul. Nożownicza 1C, 50-119 Wrocław, Polska]</td>\n",
       "      <td>[{'label': 'display', 'lat': 51.11285710355397...</td>\n",
       "      <td>51.112857</td>\n",
       "      <td>17.031796</td>\n",
       "      <td>50-119</td>\n",
       "      <td>Województwo dolnośląskie</td>\n",
       "      <td>4d766861b483a09368629005</td>\n",
       "    </tr>\n",
       "    <tr>\n",
       "      <th>1</th>\n",
       "      <td>Sakana Sushi Bar</td>\n",
       "      <td>Sushi Restaurant</td>\n",
       "      <td>Odrzańska 17/1a</td>\n",
       "      <td>PL</td>\n",
       "      <td>Wrocław</td>\n",
       "      <td>Polska</td>\n",
       "      <td>NaN</td>\n",
       "      <td>438</td>\n",
       "      <td>[Odrzańska 17/1a, Wrocław, Polska]</td>\n",
       "      <td>[{'label': 'display', 'lat': 51.11287541668924...</td>\n",
       "      <td>51.112875</td>\n",
       "      <td>17.031743</td>\n",
       "      <td>NaN</td>\n",
       "      <td>Województwo dolnośląskie</td>\n",
       "      <td>4c28ce88e19720a11b79f858</td>\n",
       "    </tr>\n",
       "    <tr>\n",
       "      <th>2</th>\n",
       "      <td>Sushi Takai</td>\n",
       "      <td>Sushi Restaurant</td>\n",
       "      <td>Rzeźnicza 34/1D</td>\n",
       "      <td>PL</td>\n",
       "      <td>Wrocław</td>\n",
       "      <td>Polska</td>\n",
       "      <td>Ruska</td>\n",
       "      <td>374</td>\n",
       "      <td>[Rzeźnicza 34/1D (Ruska), 50-130 Wrocław, Polska]</td>\n",
       "      <td>[{'label': 'display', 'lat': 51.11033100748933...</td>\n",
       "      <td>51.110331</td>\n",
       "      <td>17.027761</td>\n",
       "      <td>50-130</td>\n",
       "      <td>Województwo dolnośląskie</td>\n",
       "      <td>51cd9d02498e7d6ae1bcd801</td>\n",
       "    </tr>\n",
       "    <tr>\n",
       "      <th>3</th>\n",
       "      <td>Michiko Sushi Roll</td>\n",
       "      <td>Sushi Restaurant</td>\n",
       "      <td>Odrzańska 1</td>\n",
       "      <td>PL</td>\n",
       "      <td>Wrocław</td>\n",
       "      <td>Polska</td>\n",
       "      <td>NaN</td>\n",
       "      <td>310</td>\n",
       "      <td>[Odrzańska 1, 50-113 Wrocław, Polska]</td>\n",
       "      <td>[{'label': 'display', 'lat': 51.11152461814552...</td>\n",
       "      <td>51.111525</td>\n",
       "      <td>17.030845</td>\n",
       "      <td>50-113</td>\n",
       "      <td>Województwo dolnośląskie</td>\n",
       "      <td>4f0eed61e4b04a8cd91df7e2</td>\n",
       "    </tr>\n",
       "    <tr>\n",
       "      <th>4</th>\n",
       "      <td>Sushi Planet</td>\n",
       "      <td>None</td>\n",
       "      <td>Rynek 46/47, Wroclaw, Poland</td>\n",
       "      <td>PL</td>\n",
       "      <td>NaN</td>\n",
       "      <td>Polska</td>\n",
       "      <td>NaN</td>\n",
       "      <td>192</td>\n",
       "      <td>[Rynek 46/47, Wroclaw, Poland, Polska]</td>\n",
       "      <td>[{'label': 'display', 'lat': 51.110704, 'lng':...</td>\n",
       "      <td>51.110704</td>\n",
       "      <td>17.032870</td>\n",
       "      <td>NaN</td>\n",
       "      <td>NaN</td>\n",
       "      <td>52bb3704498e894d89ba5456</td>\n",
       "    </tr>\n",
       "    <tr>\n",
       "      <th>5</th>\n",
       "      <td>Sushirolka</td>\n",
       "      <td>Sushi Restaurant</td>\n",
       "      <td>Kuźnicza 25</td>\n",
       "      <td>PL</td>\n",
       "      <td>Wrocław</td>\n",
       "      <td>Polska</td>\n",
       "      <td>NaN</td>\n",
       "      <td>386</td>\n",
       "      <td>[Kuźnicza 25, 50-138 Wrocław, Polska]</td>\n",
       "      <td>[{'label': 'display', 'lat': 51.11228757802861...</td>\n",
       "      <td>51.112288</td>\n",
       "      <td>17.034343</td>\n",
       "      <td>50-138</td>\n",
       "      <td>Województwo dolnośląskie</td>\n",
       "      <td>57127013498e87c71ff3cfdf</td>\n",
       "    </tr>\n",
       "    <tr>\n",
       "      <th>6</th>\n",
       "      <td>Sushi &amp; Martini</td>\n",
       "      <td>Sushi Restaurant</td>\n",
       "      <td>NaN</td>\n",
       "      <td>PL</td>\n",
       "      <td>NaN</td>\n",
       "      <td>Polska</td>\n",
       "      <td>NaN</td>\n",
       "      <td>333</td>\n",
       "      <td>[Polska]</td>\n",
       "      <td>[{'label': 'display', 'lat': 51.111317, 'lng':...</td>\n",
       "      <td>51.111317</td>\n",
       "      <td>17.029686</td>\n",
       "      <td>NaN</td>\n",
       "      <td>NaN</td>\n",
       "      <td>529dcf28498eb70ed26a3421</td>\n",
       "    </tr>\n",
       "    <tr>\n",
       "      <th>7</th>\n",
       "      <td>KOBO SUSHI</td>\n",
       "      <td>Sushi Restaurant</td>\n",
       "      <td>Rynek 46/47</td>\n",
       "      <td>PL</td>\n",
       "      <td>Wrocław</td>\n",
       "      <td>Polska</td>\n",
       "      <td>NaN</td>\n",
       "      <td>170</td>\n",
       "      <td>[Rynek 46/47, 50-116 Wrocław, Polska]</td>\n",
       "      <td>[{'label': 'display', 'lat': 51.11050948756854...</td>\n",
       "      <td>51.110509</td>\n",
       "      <td>17.032842</td>\n",
       "      <td>50-116</td>\n",
       "      <td>Województwo dolnośląskie</td>\n",
       "      <td>5509d10b498e9952c203d166</td>\n",
       "    </tr>\n",
       "    <tr>\n",
       "      <th>8</th>\n",
       "      <td>Sushi Lovers</td>\n",
       "      <td>Sushi Restaurant</td>\n",
       "      <td>20 Odrzańska</td>\n",
       "      <td>PL</td>\n",
       "      <td>Вроцлав</td>\n",
       "      <td>Polska</td>\n",
       "      <td>NaN</td>\n",
       "      <td>479</td>\n",
       "      <td>[20 Odrzańska, 50-114 Вроцлав, Polska]</td>\n",
       "      <td>[{'label': 'display', 'lat': 51.113216, 'lng':...</td>\n",
       "      <td>51.113216</td>\n",
       "      <td>17.031418</td>\n",
       "      <td>50-114</td>\n",
       "      <td>Нижняя Силезия</td>\n",
       "      <td>5cf5764ca2c00b002cf650d2</td>\n",
       "    </tr>\n",
       "    <tr>\n",
       "      <th>9</th>\n",
       "      <td>Wasabi Sushi Shop</td>\n",
       "      <td>Grocery Store</td>\n",
       "      <td>Biskupia 4b</td>\n",
       "      <td>PL</td>\n",
       "      <td>Wroclaw</td>\n",
       "      <td>Polska</td>\n",
       "      <td>Oławska</td>\n",
       "      <td>290</td>\n",
       "      <td>[Biskupia 4b (Oławska), 50-148 Wroclaw, Polska]</td>\n",
       "      <td>[{'label': 'display', 'lat': 51.109033, 'lng':...</td>\n",
       "      <td>51.109033</td>\n",
       "      <td>17.036819</td>\n",
       "      <td>50-148</td>\n",
       "      <td>Lower Silesia</td>\n",
       "      <td>577a3fdd498ec5cc1b3d8b5f</td>\n",
       "    </tr>\n",
       "    <tr>\n",
       "      <th>10</th>\n",
       "      <td>Hana Sushi</td>\n",
       "      <td>Sushi Restaurant</td>\n",
       "      <td>Plac Tadeusza Kościuszki 15–19</td>\n",
       "      <td>PL</td>\n",
       "      <td>Wrocław</td>\n",
       "      <td>Polska</td>\n",
       "      <td>Renoma CH</td>\n",
       "      <td>556</td>\n",
       "      <td>[Plac Tadeusza Kościuszki 15–19 (Renoma CH), 5...</td>\n",
       "      <td>[{'label': 'display', 'lat': 51.10399430542239...</td>\n",
       "      <td>51.103994</td>\n",
       "      <td>17.031966</td>\n",
       "      <td>50-027</td>\n",
       "      <td>Województwo dolnośląskie</td>\n",
       "      <td>4c936af0d2e1a143d696d226</td>\n",
       "    </tr>\n",
       "    <tr>\n",
       "      <th>11</th>\n",
       "      <td>Szajnochy 11</td>\n",
       "      <td>Sushi Restaurant</td>\n",
       "      <td>Szajnocha 11</td>\n",
       "      <td>PL</td>\n",
       "      <td>Wrocław</td>\n",
       "      <td>Polska</td>\n",
       "      <td>NaN</td>\n",
       "      <td>289</td>\n",
       "      <td>[Szajnocha 11, 50-073 Wrocław, Polska]</td>\n",
       "      <td>[{'label': 'display', 'lat': 51.10817671871656...</td>\n",
       "      <td>51.108177</td>\n",
       "      <td>17.028726</td>\n",
       "      <td>50-073</td>\n",
       "      <td>Województwo dolnośląskie</td>\n",
       "      <td>4c4c2c20f7cc1b8ddc1aed40</td>\n",
       "    </tr>\n",
       "  </tbody>\n",
       "</table>\n",
       "</div>"
      ],
      "text/plain": [
       "                  name        categories                         address  cc  \\\n",
       "0             77 Sushi  Sushi Restaurant               ul. Nożownicza 1C  PL   \n",
       "1     Sakana Sushi Bar  Sushi Restaurant                 Odrzańska 17/1a  PL   \n",
       "2          Sushi Takai  Sushi Restaurant                 Rzeźnicza 34/1D  PL   \n",
       "3   Michiko Sushi Roll  Sushi Restaurant                     Odrzańska 1  PL   \n",
       "4         Sushi Planet              None    Rynek 46/47, Wroclaw, Poland  PL   \n",
       "5           Sushirolka  Sushi Restaurant                     Kuźnicza 25  PL   \n",
       "6      Sushi & Martini  Sushi Restaurant                             NaN  PL   \n",
       "7           KOBO SUSHI  Sushi Restaurant                     Rynek 46/47  PL   \n",
       "8         Sushi Lovers  Sushi Restaurant                    20 Odrzańska  PL   \n",
       "9    Wasabi Sushi Shop     Grocery Store                     Biskupia 4b  PL   \n",
       "10          Hana Sushi  Sushi Restaurant  Plac Tadeusza Kościuszki 15–19  PL   \n",
       "11        Szajnochy 11  Sushi Restaurant                    Szajnocha 11  PL   \n",
       "\n",
       "       city country crossStreet  distance  \\\n",
       "0   Wrocław  Polska         NaN       436   \n",
       "1   Wrocław  Polska         NaN       438   \n",
       "2   Wrocław  Polska       Ruska       374   \n",
       "3   Wrocław  Polska         NaN       310   \n",
       "4       NaN  Polska         NaN       192   \n",
       "5   Wrocław  Polska         NaN       386   \n",
       "6       NaN  Polska         NaN       333   \n",
       "7   Wrocław  Polska         NaN       170   \n",
       "8   Вроцлав  Polska         NaN       479   \n",
       "9   Wroclaw  Polska     Oławska       290   \n",
       "10  Wrocław  Polska   Renoma CH       556   \n",
       "11  Wrocław  Polska         NaN       289   \n",
       "\n",
       "                                     formattedAddress  \\\n",
       "0         [ul. Nożownicza 1C, 50-119 Wrocław, Polska]   \n",
       "1                  [Odrzańska 17/1a, Wrocław, Polska]   \n",
       "2   [Rzeźnicza 34/1D (Ruska), 50-130 Wrocław, Polska]   \n",
       "3               [Odrzańska 1, 50-113 Wrocław, Polska]   \n",
       "4              [Rynek 46/47, Wroclaw, Poland, Polska]   \n",
       "5               [Kuźnicza 25, 50-138 Wrocław, Polska]   \n",
       "6                                            [Polska]   \n",
       "7               [Rynek 46/47, 50-116 Wrocław, Polska]   \n",
       "8              [20 Odrzańska, 50-114 Вроцлав, Polska]   \n",
       "9     [Biskupia 4b (Oławska), 50-148 Wroclaw, Polska]   \n",
       "10  [Plac Tadeusza Kościuszki 15–19 (Renoma CH), 5...   \n",
       "11             [Szajnocha 11, 50-073 Wrocław, Polska]   \n",
       "\n",
       "                                       labeledLatLngs        lat        lng  \\\n",
       "0   [{'label': 'display', 'lat': 51.11285710355397...  51.112857  17.031796   \n",
       "1   [{'label': 'display', 'lat': 51.11287541668924...  51.112875  17.031743   \n",
       "2   [{'label': 'display', 'lat': 51.11033100748933...  51.110331  17.027761   \n",
       "3   [{'label': 'display', 'lat': 51.11152461814552...  51.111525  17.030845   \n",
       "4   [{'label': 'display', 'lat': 51.110704, 'lng':...  51.110704  17.032870   \n",
       "5   [{'label': 'display', 'lat': 51.11228757802861...  51.112288  17.034343   \n",
       "6   [{'label': 'display', 'lat': 51.111317, 'lng':...  51.111317  17.029686   \n",
       "7   [{'label': 'display', 'lat': 51.11050948756854...  51.110509  17.032842   \n",
       "8   [{'label': 'display', 'lat': 51.113216, 'lng':...  51.113216  17.031418   \n",
       "9   [{'label': 'display', 'lat': 51.109033, 'lng':...  51.109033  17.036819   \n",
       "10  [{'label': 'display', 'lat': 51.10399430542239...  51.103994  17.031966   \n",
       "11  [{'label': 'display', 'lat': 51.10817671871656...  51.108177  17.028726   \n",
       "\n",
       "   postalCode                     state                        id  \n",
       "0      50-119  Województwo dolnośląskie  4d766861b483a09368629005  \n",
       "1         NaN  Województwo dolnośląskie  4c28ce88e19720a11b79f858  \n",
       "2      50-130  Województwo dolnośląskie  51cd9d02498e7d6ae1bcd801  \n",
       "3      50-113  Województwo dolnośląskie  4f0eed61e4b04a8cd91df7e2  \n",
       "4         NaN                       NaN  52bb3704498e894d89ba5456  \n",
       "5      50-138  Województwo dolnośląskie  57127013498e87c71ff3cfdf  \n",
       "6         NaN                       NaN  529dcf28498eb70ed26a3421  \n",
       "7      50-116  Województwo dolnośląskie  5509d10b498e9952c203d166  \n",
       "8      50-114            Нижняя Силезия  5cf5764ca2c00b002cf650d2  \n",
       "9      50-148             Lower Silesia  577a3fdd498ec5cc1b3d8b5f  \n",
       "10     50-027  Województwo dolnośląskie  4c936af0d2e1a143d696d226  \n",
       "11     50-073  Województwo dolnośląskie  4c4c2c20f7cc1b8ddc1aed40  "
      ]
     },
     "execution_count": 8,
     "metadata": {},
     "output_type": "execute_result"
    }
   ],
   "source": [
    "# keep only columns that include venue name, and anything that is associated with location\n",
    "filtered_columns = ['name', 'categories'] + [col for col in dataframe.columns if col.startswith('location.')] + ['id']\n",
    "dataframe_filtered = dataframe.loc[:, filtered_columns]\n",
    "\n",
    "# function that extracts the category of the venue\n",
    "def get_category_type(row):\n",
    "    try:\n",
    "        categories_list = row['categories']\n",
    "    except:\n",
    "        categories_list = row['venue.categories']\n",
    "        \n",
    "    if len(categories_list) == 0:\n",
    "        return None\n",
    "    else:\n",
    "        return categories_list[0]['name']\n",
    "\n",
    "# filter the category for each row\n",
    "dataframe_filtered['categories'] = dataframe_filtered.apply(get_category_type, axis=1)\n",
    "\n",
    "# clean column names by keeping only last term\n",
    "dataframe_filtered.columns = [column.split('.')[-1] for column in dataframe_filtered.columns]\n",
    "\n",
    "dataframe_filtered"
   ]
  },
  {
   "cell_type": "markdown",
   "metadata": {
    "button": false,
    "deletable": true,
    "new_sheet": false,
    "run_control": {
     "read_only": false
    }
   },
   "source": [
    "#### Let's visualize the Italian restaurants that are nearby"
   ]
  },
  {
   "cell_type": "code",
   "execution_count": 9,
   "metadata": {
    "button": false,
    "collapsed": false,
    "deletable": true,
    "new_sheet": false,
    "run_control": {
     "read_only": false
    }
   },
   "outputs": [
    {
     "data": {
      "text/plain": [
       "0               77 Sushi\n",
       "1       Sakana Sushi Bar\n",
       "2            Sushi Takai\n",
       "3     Michiko Sushi Roll\n",
       "4           Sushi Planet\n",
       "5             Sushirolka\n",
       "6        Sushi & Martini\n",
       "7             KOBO SUSHI\n",
       "8           Sushi Lovers\n",
       "9      Wasabi Sushi Shop\n",
       "10            Hana Sushi\n",
       "11          Szajnochy 11\n",
       "Name: name, dtype: object"
      ]
     },
     "execution_count": 9,
     "metadata": {},
     "output_type": "execute_result"
    }
   ],
   "source": [
    "dataframe_filtered.name"
   ]
  },
  {
   "cell_type": "code",
   "execution_count": 10,
   "metadata": {
    "button": false,
    "collapsed": false,
    "deletable": true,
    "new_sheet": false,
    "run_control": {
     "read_only": false
    },
    "scrolled": false
   },
   "outputs": [
    {
     "data": {
      "text/html": [
       "<div style=\"width:100%;\"><div style=\"position:relative;width:100%;height:0;padding-bottom:60%;\"><iframe src=\"data:text/html;charset=utf-8;base64,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\" style=\"position:absolute;width:100%;height:100%;left:0;top:0;border:none !important;\" allowfullscreen webkitallowfullscreen mozallowfullscreen></iframe></div></div>"
      ],
      "text/plain": [
       "<folium.folium.Map at 0x7fcb402100b8>"
      ]
     },
     "execution_count": 10,
     "metadata": {},
     "output_type": "execute_result"
    }
   ],
   "source": [
    "venues_map = folium.Map(location=[latitude, longitude], zoom_start=17) # generate map centred around the Market Square in Wroclaw\n",
    "\n",
    "# add a red circle marker to represent the Market Square\n",
    "folium.features.CircleMarker(\n",
    "    [latitude, longitude],\n",
    "    radius=20,\n",
    "    color='red',\n",
    "    popup='Market Square Wroclaw',\n",
    "    fill = True,\n",
    "    fill_color = 'red',\n",
    "    fill_opacity = 0.6\n",
    ").add_to(venues_map)\n",
    "\n",
    "# add japanese restaurants as blue circle markers\n",
    "for lat, lng, label in zip(dataframe_filtered.lat, dataframe_filtered.lng, dataframe_filtered.categories):\n",
    "    folium.features.CircleMarker(\n",
    "        [lat, lng],\n",
    "        radius=5,\n",
    "        color='blue',\n",
    "        popup=label,\n",
    "        fill = True,\n",
    "        fill_color='blue',\n",
    "        fill_opacity=0.6\n",
    "    ).add_to(venues_map)\n",
    "\n",
    "# display map\n",
    "venues_map"
   ]
  },
  {
   "cell_type": "markdown",
   "metadata": {
    "button": false,
    "deletable": true,
    "new_sheet": false,
    "run_control": {
     "read_only": false
    }
   },
   "source": [
    "   "
   ]
  },
  {
   "cell_type": "markdown",
   "metadata": {
    "button": false,
    "deletable": true,
    "new_sheet": false,
    "run_control": {
     "read_only": false
    }
   },
   "source": [
    "<a id=\"item2\"></a>"
   ]
  },
  {
   "cell_type": "markdown",
   "metadata": {
    "button": false,
    "deletable": true,
    "new_sheet": false,
    "run_control": {
     "read_only": false
    }
   },
   "source": [
    "## 2. Explore a Given Venue\n",
    "> `https://api.foursquare.com/v2/venues/`**VENUE_ID**`?client_id=`**CLIENT_ID**`&client_secret=`**CLIENT_SECRET**`&v=`**VERSION**"
   ]
  },
  {
   "cell_type": "markdown",
   "metadata": {
    "button": false,
    "deletable": true,
    "new_sheet": false,
    "run_control": {
     "read_only": false
    }
   },
   "source": [
    "### A. Let's explore the closest Italian restaurant -- _77 Sushi_"
   ]
  },
  {
   "cell_type": "code",
   "execution_count": 11,
   "metadata": {
    "button": false,
    "collapsed": false,
    "deletable": true,
    "new_sheet": false,
    "run_control": {
     "read_only": false
    }
   },
   "outputs": [
    {
     "data": {
      "text/plain": [
       "'https://api.foursquare.com/v2/venues/4d766861b483a09368629005?client_id=Y3UR25IN0Z0FBV3QJDLIAZW0WUWYKUDCQV31SQEQLTBDKU42&client_secret=JIZCJMER50TE5QXIQBZOSBQQGS5LQHNNCMUCAE4G2BHBYIIX&v=20180604'"
      ]
     },
     "execution_count": 11,
     "metadata": {},
     "output_type": "execute_result"
    }
   ],
   "source": [
    "venue_id = '4d766861b483a09368629005' # ID of 77 Sushi\n",
    "url = 'https://api.foursquare.com/v2/venues/{}?client_id={}&client_secret={}&v={}'.format(venue_id, CLIENT_ID, CLIENT_SECRET, VERSION)\n",
    "url"
   ]
  },
  {
   "cell_type": "markdown",
   "metadata": {
    "button": false,
    "deletable": true,
    "new_sheet": false,
    "run_control": {
     "read_only": false
    }
   },
   "source": [
    "#### Send GET request for result"
   ]
  },
  {
   "cell_type": "code",
   "execution_count": 12,
   "metadata": {
    "button": false,
    "collapsed": false,
    "deletable": true,
    "new_sheet": false,
    "run_control": {
     "read_only": false
    }
   },
   "outputs": [
    {
     "name": "stdout",
     "output_type": "stream",
     "text": [
      "dict_keys(['id', 'name', 'contact', 'location', 'canonicalUrl', 'categories', 'verified', 'stats', 'url', 'price', 'likes', 'dislike', 'ok', 'rating', 'ratingColor', 'ratingSignals', 'allowMenuUrlEdit', 'beenHere', 'specials', 'photos', 'reasons', 'storeId', 'page', 'hereNow', 'createdAt', 'tips', 'shortUrl', 'timeZone', 'listed', 'hours', 'popular', 'pageUpdates', 'inbox', 'attributes', 'bestPhoto', 'colors'])\n"
     ]
    },
    {
     "data": {
      "text/plain": [
       "{'id': '4d766861b483a09368629005',\n",
       " 'name': '77 Sushi',\n",
       " 'contact': {'phone': '+48713417271', 'formattedPhone': '+48 71 341 72 71'},\n",
       " 'location': {'address': 'ul. Nożownicza 1C',\n",
       "  'lat': 51.11285710355397,\n",
       "  'lng': 17.031796067563022,\n",
       "  'labeledLatLngs': [{'label': 'display',\n",
       "    'lat': 51.11285710355397,\n",
       "    'lng': 17.031796067563022}],\n",
       "  'postalCode': '50-119',\n",
       "  'cc': 'PL',\n",
       "  'city': 'Wrocław',\n",
       "  'state': 'Województwo dolnośląskie',\n",
       "  'country': 'Polska',\n",
       "  'formattedAddress': ['ul. Nożownicza 1C', '50-119 Wrocław', 'Polska']},\n",
       " 'canonicalUrl': 'https://foursquare.com/v/77-sushi/4d766861b483a09368629005',\n",
       " 'categories': [{'id': '4bf58dd8d48988d1d2941735',\n",
       "   'name': 'Sushi Restaurant',\n",
       "   'pluralName': 'Sushi Restaurants',\n",
       "   'shortName': 'Sushi',\n",
       "   'icon': {'prefix': 'https://ss3.4sqi.net/img/categories_v2/food/sushi_',\n",
       "    'suffix': '.png'},\n",
       "   'primary': True},\n",
       "  {'id': '4bf58dd8d48988d111941735',\n",
       "   'name': 'Japanese Restaurant',\n",
       "   'pluralName': 'Japanese Restaurants',\n",
       "   'shortName': 'Japanese',\n",
       "   'icon': {'prefix': 'https://ss3.4sqi.net/img/categories_v2/food/japanese_',\n",
       "    'suffix': '.png'}}],\n",
       " 'verified': True,\n",
       " 'stats': {'tipCount': 8},\n",
       " 'url': 'http://77sushi.com',\n",
       " 'price': {'tier': 2, 'message': 'Moderate', 'currency': '$'},\n",
       " 'likes': {'count': 22,\n",
       "  'groups': [{'type': 'others', 'count': 22, 'items': []}],\n",
       "  'summary': '22 Likes'},\n",
       " 'dislike': False,\n",
       " 'ok': False,\n",
       " 'rating': 7.2,\n",
       " 'ratingColor': 'C5DE35',\n",
       " 'ratingSignals': 34,\n",
       " 'allowMenuUrlEdit': True,\n",
       " 'beenHere': {'count': 0,\n",
       "  'unconfirmedCount': 0,\n",
       "  'marked': False,\n",
       "  'lastCheckinExpiredAt': 0},\n",
       " 'specials': {'count': 0, 'items': []},\n",
       " 'photos': {'count': 24,\n",
       "  'groups': [{'type': 'checkin',\n",
       "    'name': \"Friends' check-in photos\",\n",
       "    'count': 0,\n",
       "    'items': []},\n",
       "   {'type': 'venue',\n",
       "    'name': 'Venue photos',\n",
       "    'count': 24,\n",
       "    'items': [{'id': '50c4b9f7e4b00fec6a78ef15',\n",
       "      'createdAt': 1355069943,\n",
       "      'source': {'name': 'Foursquare for iOS',\n",
       "       'url': 'https://foursquare.com/download/#/iphone'},\n",
       "      'prefix': 'https://fastly.4sqi.net/img/general/',\n",
       "      'suffix': '/26148759_iZceQG2uEzfAzJIOuSi-79Ia1PoUHKHSyyIygL9KKmg.jpg',\n",
       "      'width': 720,\n",
       "      'height': 540,\n",
       "      'user': {'id': '26148759',\n",
       "       'firstName': 'Dranka',\n",
       "       'lastName': 'S',\n",
       "       'gender': 'female',\n",
       "       'photo': {'prefix': 'https://fastly.4sqi.net/img/user/',\n",
       "        'suffix': '/KH4OLN0YUE0TKB1N.jpg'}},\n",
       "      'visibility': 'public'}]}],\n",
       "  'summary': '0 photos'},\n",
       " 'reasons': {'count': 0, 'items': []},\n",
       " 'storeId': '',\n",
       " 'page': {'pageInfo': {'description': 'Wybieraj spośrób ponad 30 zestawów sushi i sashimi lub zamów oddzielne poszczególne porcje!',\n",
       "   'banner': 'https://is1.4sqi.net/userpix/SUPTSPAMOOXUB4CF.jpg',\n",
       "   'links': {'count': 1, 'items': [{'url': 'http://77sushi.com/'}]}},\n",
       "  'user': {'id': '37517169',\n",
       "   'firstName': '77 Sushi',\n",
       "   'gender': 'none',\n",
       "   'photo': {'prefix': 'https://fastly.4sqi.net/img/user/',\n",
       "    'suffix': '/0GWKQXMZEVQXVGJY.png'},\n",
       "   'type': 'chain',\n",
       "   'tips': {'count': 0},\n",
       "   'lists': {'groups': [{'type': 'created', 'count': 2, 'items': []}]},\n",
       "   'homeCity': 'Warsaw',\n",
       "   'bio': '',\n",
       "   'contact': {}}},\n",
       " 'hereNow': {'count': 0, 'summary': 'Nobody here', 'groups': []},\n",
       " 'createdAt': 1299605601,\n",
       " 'tips': {'count': 8,\n",
       "  'groups': [{'type': 'others',\n",
       "    'name': 'All tips',\n",
       "    'count': 8,\n",
       "    'items': [{'id': '4fdb7951e4b0c9ae971f2a94',\n",
       "      'createdAt': 1339783505,\n",
       "      'text': 'Najlepsze Sushi we Wrocławiu!',\n",
       "      'type': 'user',\n",
       "      'canonicalUrl': 'https://foursquare.com/item/4fdb7951e4b0c9ae971f2a94',\n",
       "      'lang': 'pl',\n",
       "      'likes': {'count': 2,\n",
       "       'groups': [{'type': 'others',\n",
       "         'count': 2,\n",
       "         'items': [{'id': '1269421',\n",
       "           'firstName': 'Radek Adam',\n",
       "           'lastName': 'G',\n",
       "           'gender': 'male',\n",
       "           'photo': {'prefix': 'https://fastly.4sqi.net/img/user/',\n",
       "            'suffix': '/1OUODQSUQSNVWHUB.jpg'}},\n",
       "          {'id': '1485530',\n",
       "           'firstName': 'Blazej',\n",
       "           'lastName': 'K',\n",
       "           'gender': 'male',\n",
       "           'photo': {'prefix': 'https://fastly.4sqi.net/img/user/',\n",
       "            'suffix': '/MSLKGQY0WY2VWIPJ.jpg'}}]}],\n",
       "       'summary': '2 likes'},\n",
       "      'logView': True,\n",
       "      'agreeCount': 2,\n",
       "      'disagreeCount': 0,\n",
       "      'todo': {'count': 0},\n",
       "      'user': {'id': '11447152',\n",
       "       'firstName': 'Michal',\n",
       "       'lastName': 'S',\n",
       "       'gender': 'male',\n",
       "       'photo': {'prefix': 'https://fastly.4sqi.net/img/user/',\n",
       "        'suffix': '/11447152_n5mcnOQm_MENJ54fNzfF0z25-bWPWaq2Dip6Hu8Mayqxcca9iM8Db5rQu2z93gBvp2Ti_kpjN.jpg'}}}]}]},\n",
       " 'shortUrl': 'http://4sq.com/gXINdp',\n",
       " 'timeZone': 'Europe/Warsaw',\n",
       " 'listed': {'count': 1,\n",
       "  'groups': [{'type': 'others',\n",
       "    'name': 'Lists from other people',\n",
       "    'count': 1,\n",
       "    'items': [{'id': '5a1aeee9446ea63362173893',\n",
       "      'name': 'Wrocek',\n",
       "      'description': '',\n",
       "      'type': 'others',\n",
       "      'user': {'id': '397319208',\n",
       "       'firstName': 'Olivia',\n",
       "       'gender': 'female',\n",
       "       'photo': {'prefix': 'https://fastly.4sqi.net/img/user/',\n",
       "        'suffix': '/397319208_ONmhmjgy_s2iY688cHf43H8ZDMYOamkgtlMCAM7I_7QSSh_GpIYpLU3lHeKzfD9jSttDHHFjO.jpg'}},\n",
       "      'editable': False,\n",
       "      'public': True,\n",
       "      'collaborative': False,\n",
       "      'url': '/user/397319208/list/wrocek',\n",
       "      'canonicalUrl': 'https://foursquare.com/user/397319208/list/wrocek',\n",
       "      'createdAt': 1511714537,\n",
       "      'updatedAt': 1511714599,\n",
       "      'photo': {'id': '523b784dbce66b2e6a035824',\n",
       "       'createdAt': 1379629133,\n",
       "       'prefix': 'https://fastly.4sqi.net/img/general/',\n",
       "       'suffix': '/61462987_hiu8_m0doGPkFPKR3vpHJXAMBocslhdCze9xD1VLgHQ.jpg',\n",
       "       'width': 612,\n",
       "       'height': 612,\n",
       "       'user': {'id': '61462987',\n",
       "        'firstName': 'Sushi Corner',\n",
       "        'gender': 'none',\n",
       "        'photo': {'prefix': 'https://fastly.4sqi.net/img/user/',\n",
       "         'suffix': '/61462987-OIKGYO3BTJPAPPKS.png'},\n",
       "        'type': 'venuePage',\n",
       "        'venue': {'id': '51ebd6632fc6a86cecaaf7b4'}},\n",
       "       'visibility': 'public'},\n",
       "      'followers': {'count': 0},\n",
       "      'listItems': {'count': 2,\n",
       "       'items': [{'id': 'v4d766861b483a09368629005',\n",
       "         'createdAt': 1511714599}]}}]}]},\n",
       " 'hours': {'status': 'Open until 11:00 PM',\n",
       "  'richStatus': {'entities': [], 'text': 'Open until 11:00 PM'},\n",
       "  'isOpen': True,\n",
       "  'isLocalHoliday': False,\n",
       "  'dayData': [],\n",
       "  'timeframes': [{'days': 'Mon–Sun',\n",
       "    'includesToday': True,\n",
       "    'open': [{'renderedTime': 'Noon–11:00 PM'}],\n",
       "    'segments': []}]},\n",
       " 'popular': {'status': 'Likely open',\n",
       "  'richStatus': {'entities': [], 'text': 'Likely open'},\n",
       "  'isOpen': True,\n",
       "  'isLocalHoliday': False,\n",
       "  'timeframes': [{'days': 'Today',\n",
       "    'includesToday': True,\n",
       "    'open': [{'renderedTime': '1:00 PM–3:00 PM'},\n",
       "     {'renderedTime': '6:00 PM–11:00 PM'}],\n",
       "    'segments': []},\n",
       "   {'days': 'Wed',\n",
       "    'open': [{'renderedTime': '1:00 PM–3:00 PM'},\n",
       "     {'renderedTime': '5:00 PM–10:00 PM'}],\n",
       "    'segments': []},\n",
       "   {'days': 'Thu',\n",
       "    'open': [{'renderedTime': '1:00 PM–10:00 PM'}],\n",
       "    'segments': []},\n",
       "   {'days': 'Fri',\n",
       "    'open': [{'renderedTime': 'Noon–3:00 PM'},\n",
       "     {'renderedTime': '5:00 PM–8:00 PM'}],\n",
       "    'segments': []},\n",
       "   {'days': 'Sat',\n",
       "    'open': [{'renderedTime': '2:00 PM–11:00 PM'}],\n",
       "    'segments': []},\n",
       "   {'days': 'Sun',\n",
       "    'open': [{'renderedTime': 'Noon–10:00 PM'}],\n",
       "    'segments': []},\n",
       "   {'days': 'Mon',\n",
       "    'open': [{'renderedTime': '1:00 PM–3:00 PM'},\n",
       "     {'renderedTime': '5:00 PM–9:00 PM'}],\n",
       "    'segments': []}]},\n",
       " 'pageUpdates': {'count': 0, 'items': []},\n",
       " 'inbox': {'count': 0, 'items': []},\n",
       " 'attributes': {'groups': [{'type': 'price',\n",
       "    'name': 'Price',\n",
       "    'summary': '$$',\n",
       "    'count': 1,\n",
       "    'items': [{'displayName': 'Price', 'displayValue': '$$', 'priceTier': 2}]},\n",
       "   {'type': 'reservations',\n",
       "    'name': 'Reservations',\n",
       "    'summary': 'Reservations',\n",
       "    'count': 3,\n",
       "    'items': [{'displayName': 'Reservations', 'displayValue': 'Yes'}]},\n",
       "   {'type': 'payments',\n",
       "    'name': 'Credit Cards',\n",
       "    'summary': 'Credit Cards',\n",
       "    'count': 5,\n",
       "    'items': [{'displayName': 'Credit Cards', 'displayValue': 'Yes'}]},\n",
       "   {'type': 'outdoorSeating',\n",
       "    'name': 'Outdoor Seating',\n",
       "    'count': 1,\n",
       "    'items': [{'displayName': 'Outdoor Seating', 'displayValue': 'No'}]},\n",
       "   {'type': 'serves',\n",
       "    'name': 'Menus',\n",
       "    'summary': 'Dinner, Lunch & more',\n",
       "    'count': 8,\n",
       "    'items': [{'displayName': 'Brunch', 'displayValue': 'Brunch'},\n",
       "     {'displayName': 'Lunch', 'displayValue': 'Lunch'},\n",
       "     {'displayName': 'Dinner', 'displayValue': 'Dinner'}]},\n",
       "   {'type': 'drinks',\n",
       "    'name': 'Drinks',\n",
       "    'summary': 'Full Bar & Cocktails',\n",
       "    'count': 5,\n",
       "    'items': [{'displayName': 'Full Bar', 'displayValue': 'Full Bar'},\n",
       "     {'displayName': 'Cocktails', 'displayValue': 'Cocktails'}]},\n",
       "   {'type': 'diningOptions',\n",
       "    'name': 'Dining Options',\n",
       "    'count': 5,\n",
       "    'items': [{'displayName': 'Delivery', 'displayValue': 'No Delivery'}]}]},\n",
       " 'bestPhoto': {'id': '50c4b9f7e4b00fec6a78ef15',\n",
       "  'createdAt': 1355069943,\n",
       "  'source': {'name': 'Foursquare for iOS',\n",
       "   'url': 'https://foursquare.com/download/#/iphone'},\n",
       "  'prefix': 'https://fastly.4sqi.net/img/general/',\n",
       "  'suffix': '/26148759_iZceQG2uEzfAzJIOuSi-79Ia1PoUHKHSyyIygL9KKmg.jpg',\n",
       "  'width': 720,\n",
       "  'height': 540,\n",
       "  'visibility': 'public'},\n",
       " 'colors': {'highlightColor': {'photoId': '50c4b9f7e4b00fec6a78ef15',\n",
       "   'value': -13627392},\n",
       "  'highlightTextColor': {'photoId': '50c4b9f7e4b00fec6a78ef15', 'value': -1},\n",
       "  'algoVersion': 3}}"
      ]
     },
     "execution_count": 12,
     "metadata": {},
     "output_type": "execute_result"
    }
   ],
   "source": [
    "result = requests.get(url).json()\n",
    "print(result['response']['venue'].keys())\n",
    "result['response']['venue']"
   ]
  },
  {
   "cell_type": "markdown",
   "metadata": {
    "button": false,
    "deletable": true,
    "new_sheet": false,
    "run_control": {
     "read_only": false
    }
   },
   "source": [
    "### B. Get the venue's overall rating"
   ]
  },
  {
   "cell_type": "code",
   "execution_count": 13,
   "metadata": {
    "button": false,
    "collapsed": false,
    "deletable": true,
    "new_sheet": false,
    "run_control": {
     "read_only": false
    }
   },
   "outputs": [
    {
     "name": "stdout",
     "output_type": "stream",
     "text": [
      "7.2\n"
     ]
    }
   ],
   "source": [
    "try:\n",
    "    print(result['response']['venue']['rating'])\n",
    "except:\n",
    "    print('This venue has not been rated yet.')"
   ]
  },
  {
   "cell_type": "markdown",
   "metadata": {
    "button": false,
    "deletable": true,
    "new_sheet": false,
    "run_control": {
     "read_only": false
    }
   },
   "source": [
    "7.2 is a good rating, but let's check the rating of the second closest Japanese restaurant."
   ]
  },
  {
   "cell_type": "code",
   "execution_count": 14,
   "metadata": {
    "button": false,
    "collapsed": false,
    "deletable": true,
    "new_sheet": false,
    "run_control": {
     "read_only": false
    }
   },
   "outputs": [
    {
     "name": "stdout",
     "output_type": "stream",
     "text": [
      "7.4\n"
     ]
    }
   ],
   "source": [
    "venue_id = '4c28ce88e19720a11b79f858' # ID of Sakana Sushi Bar\n",
    "url = 'https://api.foursquare.com/v2/venues/{}?client_id={}&client_secret={}&v={}'.format(venue_id, CLIENT_ID, CLIENT_SECRET, VERSION)\n",
    "\n",
    "result = requests.get(url).json()\n",
    "try:\n",
    "    print(result['response']['venue']['rating'])\n",
    "except:\n",
    "    print('This venue has not been rated yet.')"
   ]
  },
  {
   "cell_type": "markdown",
   "metadata": {
    "button": false,
    "deletable": true,
    "new_sheet": false,
    "run_control": {
     "read_only": false
    }
   },
   "source": [
    "This restaurant has a better rating, 7.4 but let's check a third restaurant."
   ]
  },
  {
   "cell_type": "code",
   "execution_count": 15,
   "metadata": {
    "button": false,
    "collapsed": false,
    "deletable": true,
    "new_sheet": false,
    "run_control": {
     "read_only": false
    }
   },
   "outputs": [
    {
     "name": "stdout",
     "output_type": "stream",
     "text": [
      "8.0\n"
     ]
    }
   ],
   "source": [
    "venue_id = '4c4c2c20f7cc1b8ddc1aed40' # ID of Szajnochy 11\n",
    "url = 'https://api.foursquare.com/v2/venues/{}?client_id={}&client_secret={}&v={}'.format(venue_id, CLIENT_ID, CLIENT_SECRET, VERSION)\n",
    "\n",
    "result = requests.get(url).json()\n",
    "try:\n",
    "    print(result['response']['venue']['rating'])\n",
    "except:\n",
    "    print('This venue has not been rated yet.')"
   ]
  },
  {
   "cell_type": "markdown",
   "metadata": {
    "button": false,
    "deletable": true,
    "new_sheet": false,
    "run_control": {
     "read_only": false
    }
   },
   "source": [
    "This restaurant has a very good rating, 8.0. Let's explore this further."
   ]
  },
  {
   "cell_type": "markdown",
   "metadata": {
    "button": false,
    "deletable": true,
    "new_sheet": false,
    "run_control": {
     "read_only": false
    }
   },
   "source": [
    "### C. Get the number of tips"
   ]
  },
  {
   "cell_type": "code",
   "execution_count": 16,
   "metadata": {
    "button": false,
    "collapsed": false,
    "deletable": true,
    "new_sheet": false,
    "run_control": {
     "read_only": false
    }
   },
   "outputs": [
    {
     "data": {
      "text/plain": [
       "15"
      ]
     },
     "execution_count": 16,
     "metadata": {},
     "output_type": "execute_result"
    }
   ],
   "source": [
    "result['response']['venue']['tips']['count']"
   ]
  },
  {
   "cell_type": "markdown",
   "metadata": {
    "button": false,
    "deletable": true,
    "new_sheet": false,
    "run_control": {
     "read_only": false
    }
   },
   "source": [
    "### D. Get the venue's tips\n",
    "> `https://api.foursquare.com/v2/venues/`**VENUE_ID**`/tips?client_id=`**CLIENT_ID**`&client_secret=`**CLIENT_SECRET**`&v=`**VERSION**`&limit=`**LIMIT**"
   ]
  },
  {
   "cell_type": "markdown",
   "metadata": {
    "button": false,
    "deletable": true,
    "new_sheet": false,
    "run_control": {
     "read_only": false
    }
   },
   "source": [
    "#### Create URL and send GET request. Make sure to set limit to get all tips"
   ]
  },
  {
   "cell_type": "code",
   "execution_count": 18,
   "metadata": {
    "button": false,
    "collapsed": false,
    "deletable": true,
    "new_sheet": false,
    "run_control": {
     "read_only": false
    }
   },
   "outputs": [
    {
     "data": {
      "text/plain": [
       "{'meta': {'code': 200, 'requestId': '5d121170c0c0840025bd26c4'},\n",
       " 'response': {'tips': {'count': 15,\n",
       "   'items': [{'id': '54b37c43498e9cffea330fe4',\n",
       "     'createdAt': 1421048899,\n",
       "     'text': 'Amazing sushi and definitely a higher standard than some other sushi places. Tasty and fresh fish. And you have the possibility to watch the sushi being made in front of you.',\n",
       "     'type': 'user',\n",
       "     'canonicalUrl': 'https://foursquare.com/item/54b37c43498e9cffea330fe4',\n",
       "     'photo': {'id': '54b37c55498ea106d6415914',\n",
       "      'createdAt': 1421048917,\n",
       "      'source': {'name': 'Foursquare for Android',\n",
       "       'url': 'https://foursquare.com/download/#/android'},\n",
       "      'prefix': 'https://fastly.4sqi.net/img/general/',\n",
       "      'suffix': '/95753554_Ox0msdtcBLBMDm_kMTUBHk8Ql8zLne0-4KNhUkGSEK4.jpg',\n",
       "      'width': 2688,\n",
       "      'height': 1520,\n",
       "      'visibility': 'public'},\n",
       "     'photourl': 'https://fastly.4sqi.net/img/general/original/95753554_Ox0msdtcBLBMDm_kMTUBHk8Ql8zLne0-4KNhUkGSEK4.jpg',\n",
       "     'lang': 'en',\n",
       "     'likes': {'count': 1,\n",
       "      'groups': [{'type': 'others',\n",
       "        'count': 1,\n",
       "        'items': [{'id': '145842668',\n",
       "          'firstName': 'Nate',\n",
       "          'lastName': 'H',\n",
       "          'gender': 'male',\n",
       "          'photo': {'prefix': 'https://fastly.4sqi.net/img/user/',\n",
       "           'suffix': '/145842668-FF3SBNLOTNUI4TG5.jpg'}}]}],\n",
       "      'summary': '1 like'},\n",
       "     'logView': True,\n",
       "     'agreeCount': 1,\n",
       "     'disagreeCount': 0,\n",
       "     'todo': {'count': 0},\n",
       "     'user': {'id': '95753554',\n",
       "      'firstName': 'The T',\n",
       "      'lastName': 'a',\n",
       "      'gender': 'male',\n",
       "      'photo': {'prefix': 'https://fastly.4sqi.net/img/user/',\n",
       "       'suffix': '/95753554-2AH2AS0PA0SNGM1V.jpg'}},\n",
       "     'authorInteractionType': 'liked'}]}}}"
      ]
     },
     "execution_count": 18,
     "metadata": {},
     "output_type": "execute_result"
    }
   ],
   "source": [
    "## Szajnochy 11 Tips\n",
    "limit = 15 # set limit to be greater than or equal to the total number of tips\n",
    "url = 'https://api.foursquare.com/v2/venues/{}/tips?client_id={}&client_secret={}&v={}&limit={}'.format(venue_id, CLIENT_ID, CLIENT_SECRET, VERSION, limit)\n",
    "\n",
    "results = requests.get(url).json()\n",
    "results"
   ]
  },
  {
   "cell_type": "markdown",
   "metadata": {
    "button": false,
    "deletable": true,
    "new_sheet": false,
    "run_control": {
     "read_only": false
    }
   },
   "source": [
    "#### Get tips and list of associated features"
   ]
  },
  {
   "cell_type": "code",
   "execution_count": 19,
   "metadata": {
    "button": false,
    "collapsed": false,
    "deletable": true,
    "new_sheet": false,
    "run_control": {
     "read_only": false
    }
   },
   "outputs": [
    {
     "data": {
      "text/plain": [
       "dict_keys(['id', 'createdAt', 'text', 'type', 'canonicalUrl', 'photo', 'photourl', 'lang', 'likes', 'logView', 'agreeCount', 'disagreeCount', 'todo', 'user', 'authorInteractionType'])"
      ]
     },
     "execution_count": 19,
     "metadata": {},
     "output_type": "execute_result"
    }
   ],
   "source": [
    "tips = results['response']['tips']['items']\n",
    "\n",
    "tip = results['response']['tips']['items'][0]\n",
    "tip.keys()"
   ]
  },
  {
   "cell_type": "markdown",
   "metadata": {
    "button": false,
    "deletable": true,
    "new_sheet": false,
    "run_control": {
     "read_only": false
    }
   },
   "source": [
    "#### Format column width and display all tips"
   ]
  },
  {
   "cell_type": "code",
   "execution_count": 20,
   "metadata": {
    "button": false,
    "collapsed": false,
    "deletable": true,
    "new_sheet": false,
    "run_control": {
     "read_only": false
    },
    "scrolled": false
   },
   "outputs": [
    {
     "data": {
      "text/html": [
       "<div>\n",
       "<style scoped>\n",
       "    .dataframe tbody tr th:only-of-type {\n",
       "        vertical-align: middle;\n",
       "    }\n",
       "\n",
       "    .dataframe tbody tr th {\n",
       "        vertical-align: top;\n",
       "    }\n",
       "\n",
       "    .dataframe thead th {\n",
       "        text-align: right;\n",
       "    }\n",
       "</style>\n",
       "<table border=\"1\" class=\"dataframe\">\n",
       "  <thead>\n",
       "    <tr style=\"text-align: right;\">\n",
       "      <th></th>\n",
       "      <th>text</th>\n",
       "      <th>agreeCount</th>\n",
       "      <th>disagreeCount</th>\n",
       "      <th>id</th>\n",
       "      <th>user.firstName</th>\n",
       "      <th>user.lastName</th>\n",
       "      <th>user.gender</th>\n",
       "      <th>user.id</th>\n",
       "    </tr>\n",
       "  </thead>\n",
       "  <tbody>\n",
       "    <tr>\n",
       "      <th>0</th>\n",
       "      <td>Amazing sushi and definitely a higher standard than some other sushi places. Tasty and fresh fish. And you have the possibility to watch the sushi being made in front of you.</td>\n",
       "      <td>1</td>\n",
       "      <td>0</td>\n",
       "      <td>54b37c43498e9cffea330fe4</td>\n",
       "      <td>The T</td>\n",
       "      <td>a</td>\n",
       "      <td>male</td>\n",
       "      <td>95753554</td>\n",
       "    </tr>\n",
       "  </tbody>\n",
       "</table>\n",
       "</div>"
      ],
      "text/plain": [
       "                                                                                                                                                                             text  \\\n",
       "0  Amazing sushi and definitely a higher standard than some other sushi places. Tasty and fresh fish. And you have the possibility to watch the sushi being made in front of you.   \n",
       "\n",
       "   agreeCount  disagreeCount                        id user.firstName  \\\n",
       "0  1           0              54b37c43498e9cffea330fe4  The T           \n",
       "\n",
       "  user.lastName user.gender   user.id  \n",
       "0  a             male        95753554  "
      ]
     },
     "execution_count": 20,
     "metadata": {},
     "output_type": "execute_result"
    }
   ],
   "source": [
    "pd.set_option('display.max_colwidth', -1)\n",
    "\n",
    "tips_df = json_normalize(tips) # json normalize tips\n",
    "\n",
    "# columns to keep\n",
    "filtered_columns = ['text', 'agreeCount', 'disagreeCount', 'id', 'user.firstName', 'user.lastName', 'user.gender', 'user.id']\n",
    "tips_filtered = tips_df.loc[:, filtered_columns]\n",
    "\n",
    "# display tips\n",
    "tips_filtered"
   ]
  },
  {
   "cell_type": "markdown",
   "metadata": {
    "button": false,
    "deletable": true,
    "new_sheet": false,
    "run_control": {
     "read_only": false
    }
   },
   "source": [
    "Now remember that because we are using a personal developer account, then we can access only 2 of the restaurant's tips, instead of all 15 tips."
   ]
  },
  {
   "cell_type": "markdown",
   "metadata": {
    "button": false,
    "deletable": true,
    "new_sheet": false,
    "run_control": {
     "read_only": false
    }
   },
   "source": [
    "   "
   ]
  },
  {
   "cell_type": "markdown",
   "metadata": {
    "button": false,
    "deletable": true,
    "new_sheet": false,
    "run_control": {
     "read_only": false
    }
   },
   "source": [
    "<a id=\"item3\"></a>"
   ]
  },
  {
   "cell_type": "markdown",
   "metadata": {
    "button": false,
    "deletable": true,
    "new_sheet": false,
    "run_control": {
     "read_only": false
    }
   },
   "source": [
    "## 3. Search a Foursquare User\n",
    "> `https://api.foursquare.com/v2/users/`**USER_ID**`?client_id=`**CLIENT_ID**`&client_secret=`**CLIENT_SECRET**`&v=`**VERSION**"
   ]
  },
  {
   "cell_type": "markdown",
   "metadata": {
    "button": false,
    "deletable": true,
    "new_sheet": false,
    "run_control": {
     "read_only": false
    }
   },
   "source": [
    "### Define URL, send GET request and display features associated with user"
   ]
  },
  {
   "cell_type": "code",
   "execution_count": 21,
   "metadata": {
    "button": false,
    "collapsed": false,
    "deletable": true,
    "new_sheet": false,
    "run_control": {
     "read_only": false
    }
   },
   "outputs": [
    {
     "data": {
      "text/plain": [
       "dict_keys(['id', 'firstName', 'lastName', 'gender', 'canonicalUrl', 'photo', 'friends', 'tips', 'homeCity', 'bio', 'contact', 'photos', 'type', 'mayorships', 'checkins', 'lists', 'lenses'])"
      ]
     },
     "execution_count": 21,
     "metadata": {},
     "output_type": "execute_result"
    }
   ],
   "source": [
    "user_id = '95753554' # user ID with most agree counts and complete profile\n",
    "\n",
    "url = 'https://api.foursquare.com/v2/users/{}?client_id={}&client_secret={}&v={}'.format(user_id, CLIENT_ID, CLIENT_SECRET, VERSION) # define URL\n",
    "\n",
    "# send GET request\n",
    "results = requests.get(url).json()\n",
    "user_data = results['response']['user']\n",
    "\n",
    "# display features associated with user\n",
    "user_data.keys()"
   ]
  },
  {
   "cell_type": "code",
   "execution_count": 22,
   "metadata": {
    "button": false,
    "collapsed": false,
    "deletable": true,
    "new_sheet": false,
    "run_control": {
     "read_only": false
    }
   },
   "outputs": [
    {
     "name": "stdout",
     "output_type": "stream",
     "text": [
      "First Name: The T\n",
      "Last Name: a\n",
      "Home City: Wroclaw, Poland & Moers, Germany\n"
     ]
    }
   ],
   "source": [
    "print('First Name: ' + user_data['firstName'])\n",
    "print('Last Name: ' + user_data['lastName'])\n",
    "print('Home City: ' + user_data['homeCity'])"
   ]
  },
  {
   "cell_type": "markdown",
   "metadata": {
    "button": false,
    "deletable": true,
    "new_sheet": false,
    "run_control": {
     "read_only": false
    }
   },
   "source": [
    "#### How many tips has this user submitted?"
   ]
  },
  {
   "cell_type": "code",
   "execution_count": 23,
   "metadata": {
    "button": false,
    "collapsed": false,
    "deletable": true,
    "new_sheet": false,
    "run_control": {
     "read_only": false
    }
   },
   "outputs": [
    {
     "data": {
      "text/plain": [
       "{'count': 302}"
      ]
     },
     "execution_count": 23,
     "metadata": {},
     "output_type": "execute_result"
    }
   ],
   "source": [
    "user_data['tips']"
   ]
  },
  {
   "cell_type": "markdown",
   "metadata": {
    "button": false,
    "deletable": true,
    "new_sheet": false,
    "run_control": {
     "read_only": false
    }
   },
   "source": [
    "Wow! So it turns out that \"The T\" is a very active Foursquare user, with more than 302 tips."
   ]
  },
  {
   "cell_type": "markdown",
   "metadata": {
    "button": false,
    "deletable": true,
    "new_sheet": false,
    "run_control": {
     "read_only": false
    }
   },
   "source": [
    "### Get User's tips"
   ]
  },
  {
   "cell_type": "code",
   "execution_count": 24,
   "metadata": {
    "button": false,
    "collapsed": false,
    "deletable": true,
    "new_sheet": false,
    "run_control": {
     "read_only": false
    },
    "scrolled": false
   },
   "outputs": [
    {
     "data": {
      "text/html": [
       "<div>\n",
       "<style scoped>\n",
       "    .dataframe tbody tr th:only-of-type {\n",
       "        vertical-align: middle;\n",
       "    }\n",
       "\n",
       "    .dataframe tbody tr th {\n",
       "        vertical-align: top;\n",
       "    }\n",
       "\n",
       "    .dataframe thead th {\n",
       "        text-align: right;\n",
       "    }\n",
       "</style>\n",
       "<table border=\"1\" class=\"dataframe\">\n",
       "  <thead>\n",
       "    <tr style=\"text-align: right;\">\n",
       "      <th></th>\n",
       "      <th>text</th>\n",
       "      <th>agreeCount</th>\n",
       "      <th>disagreeCount</th>\n",
       "      <th>id</th>\n",
       "    </tr>\n",
       "  </thead>\n",
       "  <tbody>\n",
       "    <tr>\n",
       "      <th>0</th>\n",
       "      <td>Well, there is no tangible border anymore. Which is great, a convenience for all. Thanks Schengen, thanks EU.</td>\n",
       "      <td>1</td>\n",
       "      <td>0</td>\n",
       "      <td>59b684a63362731c8023eeeb</td>\n",
       "    </tr>\n",
       "    <tr>\n",
       "      <th>1</th>\n",
       "      <td>It is a bridge. Solid experience in terms of crossing over it. Would do it again. 6/10</td>\n",
       "      <td>2</td>\n",
       "      <td>0</td>\n",
       "      <td>59b3e3772d2fd96a666f159f</td>\n",
       "    </tr>\n",
       "    <tr>\n",
       "      <th>2</th>\n",
       "      <td>Really good pizza. One of the best places for pizza. And I love the locale.</td>\n",
       "      <td>0</td>\n",
       "      <td>0</td>\n",
       "      <td>59b3e2fa1108ba21a3f1625e</td>\n",
       "    </tr>\n",
       "    <tr>\n",
       "      <th>3</th>\n",
       "      <td>It needs ticket machines. It would help with those long and slow lines. Make sure you have enough time planned in to stand in line - or you will miss your train. Otherwise nice and newly restaurated</td>\n",
       "      <td>0</td>\n",
       "      <td>0</td>\n",
       "      <td>59b3e2b3dab4b12999d79488</td>\n",
       "    </tr>\n",
       "    <tr>\n",
       "      <th>4</th>\n",
       "      <td>Apparently the cashiers here are challening those from Carrefour for the title \"slowest ever\", \"die before checkout\" and \"you will never leave\"</td>\n",
       "      <td>0</td>\n",
       "      <td>0</td>\n",
       "      <td>59b11d7346e1b6575548c213</td>\n",
       "    </tr>\n",
       "    <tr>\n",
       "      <th>5</th>\n",
       "      <td>Der Legende zufolge die kleinste Großstadt Deutschlands ;)</td>\n",
       "      <td>4</td>\n",
       "      <td>0</td>\n",
       "      <td>59b11c949ef8ef4146ff4c2b</td>\n",
       "    </tr>\n",
       "    <tr>\n",
       "      <th>6</th>\n",
       "      <td>Barbecue, amazing meat, full with flavours, perfect! I loved the \"Black Death\" - spicy, tasty, juicy and unique :)</td>\n",
       "      <td>0</td>\n",
       "      <td>0</td>\n",
       "      <td>5962429316ef6728f714528e</td>\n",
       "    </tr>\n",
       "    <tr>\n",
       "      <th>7</th>\n",
       "      <td>Great selection of ever changing craft beers and right next to it one can find Happy Truck - the best pizza in Wrocław. Great pizza and beer, what more can you ask for ;)</td>\n",
       "      <td>2</td>\n",
       "      <td>0</td>\n",
       "      <td>595a8caa16fa040b520b568b</td>\n",
       "    </tr>\n",
       "    <tr>\n",
       "      <th>8</th>\n",
       "      <td>It is okay. Had worse ones, had better ones, too. Great spot though. Wish they used some ingredients with better quality.</td>\n",
       "      <td>0</td>\n",
       "      <td>0</td>\n",
       "      <td>59577fe8c365885c8b41e048</td>\n",
       "    </tr>\n",
       "    <tr>\n",
       "      <th>9</th>\n",
       "      <td>The Burgers need more flavour and texture and the chili fries had the flavour and consistency of a sponge.</td>\n",
       "      <td>0</td>\n",
       "      <td>0</td>\n",
       "      <td>59555c1b6661165ff17c9c03</td>\n",
       "    </tr>\n",
       "    <tr>\n",
       "      <th>10</th>\n",
       "      <td>During summer a paradise for berry lovers 😍</td>\n",
       "      <td>0</td>\n",
       "      <td>0</td>\n",
       "      <td>595558b0fe37403aba1c56df</td>\n",
       "    </tr>\n",
       "    <tr>\n",
       "      <th>11</th>\n",
       "      <td>Quiet and hidden spot within the Markethall with a huge selection of teas. Perfect for a moment of peace. If you are a tea fan, give it a shot.</td>\n",
       "      <td>0</td>\n",
       "      <td>0</td>\n",
       "      <td>59313181a795bd512c4334cd</td>\n",
       "    </tr>\n",
       "    <tr>\n",
       "      <th>12</th>\n",
       "      <td>The pizza and the toppings were quite okay but the dough was too tough. At times it felt as if I am eating sandpaper.</td>\n",
       "      <td>0</td>\n",
       "      <td>0</td>\n",
       "      <td>59312fd50ff4f9509385050f</td>\n",
       "    </tr>\n",
       "    <tr>\n",
       "      <th>13</th>\n",
       "      <td>Absoluter Hammer wo gibt. Muss hin, Junge.</td>\n",
       "      <td>0</td>\n",
       "      <td>0</td>\n",
       "      <td>58f3bfc6ca18ea5f9eb576f8</td>\n",
       "    </tr>\n",
       "    <tr>\n",
       "      <th>14</th>\n",
       "      <td>Solid shisha - and they have good drinks, especially \"The Barman\" can be recommended.</td>\n",
       "      <td>0</td>\n",
       "      <td>0</td>\n",
       "      <td>58b72d4aa370b93a3b3f8ffc</td>\n",
       "    </tr>\n",
       "  </tbody>\n",
       "</table>\n",
       "</div>"
      ],
      "text/plain": [
       "                                                                                                                                                                                                      text  \\\n",
       "0   Well, there is no tangible border anymore. Which is great, a convenience for all. Thanks Schengen, thanks EU.                                                                                            \n",
       "1   It is a bridge. Solid experience in terms of crossing over it. Would do it again. 6/10                                                                                                                   \n",
       "2   Really good pizza. One of the best places for pizza. And I love the locale.                                                                                                                              \n",
       "3   It needs ticket machines. It would help with those long and slow lines. Make sure you have enough time planned in to stand in line - or you will miss your train. Otherwise nice and newly restaurated   \n",
       "4   Apparently the cashiers here are challening those from Carrefour for the title \"slowest ever\", \"die before checkout\" and \"you will never leave\"                                                          \n",
       "5   Der Legende zufolge die kleinste Großstadt Deutschlands ;)                                                                                                                                               \n",
       "6   Barbecue, amazing meat, full with flavours, perfect! I loved the \"Black Death\" - spicy, tasty, juicy and unique :)                                                                                       \n",
       "7   Great selection of ever changing craft beers and right next to it one can find Happy Truck - the best pizza in Wrocław. Great pizza and beer, what more can you ask for ;)                               \n",
       "8   It is okay. Had worse ones, had better ones, too. Great spot though. Wish they used some ingredients with better quality.                                                                                \n",
       "9   The Burgers need more flavour and texture and the chili fries had the flavour and consistency of a sponge.                                                                                               \n",
       "10  During summer a paradise for berry lovers 😍                                                                                                                                                              \n",
       "11  Quiet and hidden spot within the Markethall with a huge selection of teas. Perfect for a moment of peace. If you are a tea fan, give it a shot.                                                          \n",
       "12  The pizza and the toppings were quite okay but the dough was too tough. At times it felt as if I am eating sandpaper.                                                                                    \n",
       "13  Absoluter Hammer wo gibt. Muss hin, Junge.                                                                                                                                                               \n",
       "14  Solid shisha - and they have good drinks, especially \"The Barman\" can be recommended.                                                                                                                    \n",
       "\n",
       "    agreeCount  disagreeCount                        id  \n",
       "0   1           0              59b684a63362731c8023eeeb  \n",
       "1   2           0              59b3e3772d2fd96a666f159f  \n",
       "2   0           0              59b3e2fa1108ba21a3f1625e  \n",
       "3   0           0              59b3e2b3dab4b12999d79488  \n",
       "4   0           0              59b11d7346e1b6575548c213  \n",
       "5   4           0              59b11c949ef8ef4146ff4c2b  \n",
       "6   0           0              5962429316ef6728f714528e  \n",
       "7   2           0              595a8caa16fa040b520b568b  \n",
       "8   0           0              59577fe8c365885c8b41e048  \n",
       "9   0           0              59555c1b6661165ff17c9c03  \n",
       "10  0           0              595558b0fe37403aba1c56df  \n",
       "11  0           0              59313181a795bd512c4334cd  \n",
       "12  0           0              59312fd50ff4f9509385050f  \n",
       "13  0           0              58f3bfc6ca18ea5f9eb576f8  \n",
       "14  0           0              58b72d4aa370b93a3b3f8ffc  "
      ]
     },
     "execution_count": 24,
     "metadata": {},
     "output_type": "execute_result"
    }
   ],
   "source": [
    "# define tips URL\n",
    "url = 'https://api.foursquare.com/v2/users/{}/tips?client_id={}&client_secret={}&v={}&limit={}'.format(user_id, CLIENT_ID, CLIENT_SECRET, VERSION, limit)\n",
    "\n",
    "# send GET request and get user's tips\n",
    "results = requests.get(url).json()\n",
    "tips = results['response']['tips']['items']\n",
    "\n",
    "# format column width\n",
    "pd.set_option('display.max_colwidth', -1)\n",
    "\n",
    "tips_df = json_normalize(tips)\n",
    "\n",
    "# filter columns\n",
    "filtered_columns = ['text', 'agreeCount', 'disagreeCount', 'id']\n",
    "tips_filtered = tips_df.loc[:, filtered_columns]\n",
    "\n",
    "# display user's tips\n",
    "tips_filtered"
   ]
  },
  {
   "cell_type": "markdown",
   "metadata": {
    "button": false,
    "deletable": true,
    "new_sheet": false,
    "run_control": {
     "read_only": false
    }
   },
   "source": [
    "#### Let's get the venue for the tip with the greatest number of agree counts"
   ]
  },
  {
   "cell_type": "code",
   "execution_count": 25,
   "metadata": {
    "button": false,
    "collapsed": false,
    "deletable": true,
    "new_sheet": false,
    "run_control": {
     "read_only": false
    }
   },
   "outputs": [
    {
     "name": "stdout",
     "output_type": "stream",
     "text": [
      "Szajnochy 11\n",
      "{'address': 'Szajnocha 11', 'lat': 51.108176718716564, 'lng': 17.028726430400464, 'labeledLatLngs': [{'label': 'display', 'lat': 51.108176718716564, 'lng': 17.028726430400464}], 'postalCode': '50-073', 'cc': 'PL', 'city': 'Wrocław', 'state': 'Województwo dolnośląskie', 'country': 'Polska', 'formattedAddress': ['Szajnocha 11', '50-073 Wrocław', 'Polska']}\n"
     ]
    }
   ],
   "source": [
    "tip_id = '54b37c43498e9cffea330fe4' # tip id\n",
    "\n",
    "# define URL\n",
    "url = 'http://api.foursquare.com/v2/tips/{}?client_id={}&client_secret={}&v={}'.format(tip_id, CLIENT_ID, CLIENT_SECRET, VERSION)\n",
    "\n",
    "# send GET Request and examine results\n",
    "result = requests.get(url).json()\n",
    "print(result['response']['tip']['venue']['name'])\n",
    "print(result['response']['tip']['venue']['location'])"
   ]
  },
  {
   "cell_type": "markdown",
   "metadata": {
    "button": false,
    "deletable": true,
    "new_sheet": false,
    "run_control": {
     "read_only": false
    }
   },
   "source": [
    "### Get User's friends"
   ]
  },
  {
   "cell_type": "code",
   "execution_count": 28,
   "metadata": {
    "button": false,
    "collapsed": false,
    "deletable": true,
    "new_sheet": false,
    "run_control": {
     "read_only": false
    },
    "scrolled": false
   },
   "outputs": [
    {
     "data": {
      "text/html": [
       "<div>\n",
       "<style scoped>\n",
       "    .dataframe tbody tr th:only-of-type {\n",
       "        vertical-align: middle;\n",
       "    }\n",
       "\n",
       "    .dataframe tbody tr th {\n",
       "        vertical-align: top;\n",
       "    }\n",
       "\n",
       "    .dataframe thead th {\n",
       "        text-align: right;\n",
       "    }\n",
       "</style>\n",
       "<table border=\"1\" class=\"dataframe\">\n",
       "  <thead>\n",
       "    <tr style=\"text-align: right;\">\n",
       "      <th></th>\n",
       "      <th>bio</th>\n",
       "      <th>firstName</th>\n",
       "      <th>gender</th>\n",
       "      <th>homeCity</th>\n",
       "      <th>id</th>\n",
       "      <th>lastName</th>\n",
       "      <th>lists.groups</th>\n",
       "      <th>photo.prefix</th>\n",
       "      <th>photo.suffix</th>\n",
       "      <th>superuser</th>\n",
       "      <th>tips.count</th>\n",
       "    </tr>\n",
       "  </thead>\n",
       "  <tbody>\n",
       "    <tr>\n",
       "      <th>0</th>\n",
       "      <td></td>\n",
       "      <td>Michał</td>\n",
       "      <td>male</td>\n",
       "      <td>Wrocław, Województwo Dolnośląskie</td>\n",
       "      <td>81512541</td>\n",
       "      <td>S</td>\n",
       "      <td>[{'type': 'created', 'count': 2, 'items': []}]</td>\n",
       "      <td>https://fastly.4sqi.net/img/user/</td>\n",
       "      <td>/81512541-MNBC3D0WC2RIM2XO.jpg</td>\n",
       "      <td>NaN</td>\n",
       "      <td>0</td>\n",
       "    </tr>\n",
       "    <tr>\n",
       "      <th>1</th>\n",
       "      <td></td>\n",
       "      <td>Kuba</td>\n",
       "      <td>male</td>\n",
       "      <td>Świdnica, Dolnośląskie</td>\n",
       "      <td>35649762</td>\n",
       "      <td>J</td>\n",
       "      <td>[{'type': 'created', 'count': 2, 'items': []}]</td>\n",
       "      <td>https://fastly.4sqi.net/img/user/</td>\n",
       "      <td>/35649762_rw91UNTJ_C4aAkJtVtb8ki6INJMezpNn3utV3CtFs1qDxjy1bNHdcPmyc2sKtXBQQNgX_fukt.jpg</td>\n",
       "      <td>2.0</td>\n",
       "      <td>28</td>\n",
       "    </tr>\n",
       "    <tr>\n",
       "      <th>2</th>\n",
       "      <td>Wroclaw maniac &amp; travel addict: if you're coming to my area and need some help, send me a message. I may be of help to you</td>\n",
       "      <td>Krzys</td>\n",
       "      <td>male</td>\n",
       "      <td>Lower Silesian</td>\n",
       "      <td>29820439</td>\n",
       "      <td>J</td>\n",
       "      <td>[{'type': 'created', 'count': 3, 'items': []}]</td>\n",
       "      <td>https://fastly.4sqi.net/img/user/</td>\n",
       "      <td>/29820439_4FFjGEU8_rTh_jd4T9snWNoEY0jCGWAuSBfqpvll2H-GTMkR635R4UKw9WnjTMf4BUjMUk3Bg.jpg</td>\n",
       "      <td>NaN</td>\n",
       "      <td>160</td>\n",
       "    </tr>\n",
       "    <tr>\n",
       "      <th>3</th>\n",
       "      <td></td>\n",
       "      <td>Tetiana</td>\n",
       "      <td>female</td>\n",
       "      <td>Ierápetra, ESYE43</td>\n",
       "      <td>63145808</td>\n",
       "      <td>I</td>\n",
       "      <td>[{'type': 'created', 'count': 2, 'items': []}]</td>\n",
       "      <td>https://fastly.4sqi.net/img/user/</td>\n",
       "      <td>/1MUW1SYVQ4MIIOK3.jpg</td>\n",
       "      <td>NaN</td>\n",
       "      <td>3</td>\n",
       "    </tr>\n",
       "    <tr>\n",
       "      <th>4</th>\n",
       "      <td></td>\n",
       "      <td>Lotterliebe</td>\n",
       "      <td>female</td>\n",
       "      <td>Berlin, Germany</td>\n",
       "      <td>2091561</td>\n",
       "      <td>NaN</td>\n",
       "      <td>[{'type': 'created', 'count': 17, 'items': []}]</td>\n",
       "      <td>https://fastly.4sqi.net/img/user/</td>\n",
       "      <td>/2091561_uqpgk1g6_k_v_0zsyq9C4aZELIuDNdHbdL228iGTfS6Ghrme-_lFHNxt0YbXY3kdVmkRs3wy-.jpg</td>\n",
       "      <td>NaN</td>\n",
       "      <td>112</td>\n",
       "    </tr>\n",
       "    <tr>\n",
       "      <th>5</th>\n",
       "      <td></td>\n",
       "      <td>Fabio</td>\n",
       "      <td>male</td>\n",
       "      <td>Wroclaw, Poland</td>\n",
       "      <td>80389749</td>\n",
       "      <td>P</td>\n",
       "      <td>[{'type': 'created', 'count': 14, 'items': []}]</td>\n",
       "      <td>https://fastly.4sqi.net/img/user/</td>\n",
       "      <td>/80389749-2XH3BZBG1OUCO4XZ.jpg</td>\n",
       "      <td>NaN</td>\n",
       "      <td>7</td>\n",
       "    </tr>\n",
       "  </tbody>\n",
       "</table>\n",
       "</div>"
      ],
      "text/plain": [
       "                                                                                                                          bio  \\\n",
       "0                                                                                                                               \n",
       "1                                                                                                                               \n",
       "2  Wroclaw maniac & travel addict: if you're coming to my area and need some help, send me a message. I may be of help to you   \n",
       "3                                                                                                                               \n",
       "4                                                                                                                               \n",
       "5                                                                                                                               \n",
       "\n",
       "     firstName  gender                           homeCity        id lastName  \\\n",
       "0  Michał       male    Wrocław, Województwo Dolnośląskie  81512541  S         \n",
       "1  Kuba         male    Świdnica, Dolnośląskie             35649762  J         \n",
       "2  Krzys        male    Lower Silesian                     29820439  J         \n",
       "3  Tetiana      female  Ierápetra, ESYE43                  63145808  I         \n",
       "4  Lotterliebe  female  Berlin, Germany                    2091561   NaN       \n",
       "5  Fabio        male    Wroclaw, Poland                    80389749  P         \n",
       "\n",
       "                                      lists.groups  \\\n",
       "0  [{'type': 'created', 'count': 2, 'items': []}]    \n",
       "1  [{'type': 'created', 'count': 2, 'items': []}]    \n",
       "2  [{'type': 'created', 'count': 3, 'items': []}]    \n",
       "3  [{'type': 'created', 'count': 2, 'items': []}]    \n",
       "4  [{'type': 'created', 'count': 17, 'items': []}]   \n",
       "5  [{'type': 'created', 'count': 14, 'items': []}]   \n",
       "\n",
       "                        photo.prefix  \\\n",
       "0  https://fastly.4sqi.net/img/user/   \n",
       "1  https://fastly.4sqi.net/img/user/   \n",
       "2  https://fastly.4sqi.net/img/user/   \n",
       "3  https://fastly.4sqi.net/img/user/   \n",
       "4  https://fastly.4sqi.net/img/user/   \n",
       "5  https://fastly.4sqi.net/img/user/   \n",
       "\n",
       "                                                                              photo.suffix  \\\n",
       "0  /81512541-MNBC3D0WC2RIM2XO.jpg                                                            \n",
       "1  /35649762_rw91UNTJ_C4aAkJtVtb8ki6INJMezpNn3utV3CtFs1qDxjy1bNHdcPmyc2sKtXBQQNgX_fukt.jpg   \n",
       "2  /29820439_4FFjGEU8_rTh_jd4T9snWNoEY0jCGWAuSBfqpvll2H-GTMkR635R4UKw9WnjTMf4BUjMUk3Bg.jpg   \n",
       "3  /1MUW1SYVQ4MIIOK3.jpg                                                                     \n",
       "4  /2091561_uqpgk1g6_k_v_0zsyq9C4aZELIuDNdHbdL228iGTfS6Ghrme-_lFHNxt0YbXY3kdVmkRs3wy-.jpg    \n",
       "5  /80389749-2XH3BZBG1OUCO4XZ.jpg                                                            \n",
       "\n",
       "   superuser  tips.count  \n",
       "0 NaN         0           \n",
       "1  2.0        28          \n",
       "2 NaN         160         \n",
       "3 NaN         3           \n",
       "4 NaN         112         \n",
       "5 NaN         7           "
      ]
     },
     "execution_count": 28,
     "metadata": {},
     "output_type": "execute_result"
    }
   ],
   "source": [
    "user_friends = json_normalize(user_data['friends']['groups'][0]['items'])\n",
    "user_friends"
   ]
  },
  {
   "cell_type": "markdown",
   "metadata": {
    "button": false,
    "deletable": true,
    "new_sheet": false,
    "run_control": {
     "read_only": false
    }
   },
   "source": [
    "Interesting, \"The T\" has friends from different countries from Europe on Foursquare. That's a real travaller!"
   ]
  },
  {
   "cell_type": "markdown",
   "metadata": {
    "button": false,
    "deletable": true,
    "new_sheet": false,
    "run_control": {
     "read_only": false
    }
   },
   "source": [
    "### Retrieve the User's Profile Image"
   ]
  },
  {
   "cell_type": "code",
   "execution_count": 29,
   "metadata": {
    "button": false,
    "collapsed": false,
    "deletable": true,
    "new_sheet": false,
    "run_control": {
     "read_only": false
    },
    "scrolled": true
   },
   "outputs": [
    {
     "data": {
      "text/plain": [
       "{'id': '95753554',\n",
       " 'firstName': 'The T',\n",
       " 'lastName': 'a',\n",
       " 'gender': 'male',\n",
       " 'canonicalUrl': 'https://foursquare.com/tomcio88',\n",
       " 'photo': {'prefix': 'https://fastly.4sqi.net/img/user/',\n",
       "  'suffix': '/95753554-2AH2AS0PA0SNGM1V.jpg'},\n",
       " 'friends': {'count': 6,\n",
       "  'groups': [{'type': 'others',\n",
       "    'name': 'Other friends',\n",
       "    'count': 6,\n",
       "    'items': [{'id': '81512541',\n",
       "      'firstName': 'Michał',\n",
       "      'lastName': 'S',\n",
       "      'gender': 'male',\n",
       "      'photo': {'prefix': 'https://fastly.4sqi.net/img/user/',\n",
       "       'suffix': '/81512541-MNBC3D0WC2RIM2XO.jpg'},\n",
       "      'tips': {'count': 0},\n",
       "      'lists': {'groups': [{'type': 'created', 'count': 2, 'items': []}]},\n",
       "      'homeCity': 'Wrocław, Województwo Dolnośląskie',\n",
       "      'bio': '',\n",
       "      'contact': {}},\n",
       "     {'id': '35649762',\n",
       "      'firstName': 'Kuba',\n",
       "      'lastName': 'J',\n",
       "      'gender': 'male',\n",
       "      'photo': {'prefix': 'https://fastly.4sqi.net/img/user/',\n",
       "       'suffix': '/35649762_rw91UNTJ_C4aAkJtVtb8ki6INJMezpNn3utV3CtFs1qDxjy1bNHdcPmyc2sKtXBQQNgX_fukt.jpg'},\n",
       "      'tips': {'count': 28},\n",
       "      'lists': {'groups': [{'type': 'created', 'count': 2, 'items': []}]},\n",
       "      'homeCity': 'Świdnica, Dolnośląskie',\n",
       "      'bio': '',\n",
       "      'contact': {},\n",
       "      'superuser': 2},\n",
       "     {'id': '29820439',\n",
       "      'firstName': 'Krzys',\n",
       "      'lastName': 'J',\n",
       "      'gender': 'male',\n",
       "      'photo': {'prefix': 'https://fastly.4sqi.net/img/user/',\n",
       "       'suffix': '/29820439_4FFjGEU8_rTh_jd4T9snWNoEY0jCGWAuSBfqpvll2H-GTMkR635R4UKw9WnjTMf4BUjMUk3Bg.jpg'},\n",
       "      'tips': {'count': 160},\n",
       "      'lists': {'groups': [{'type': 'created', 'count': 3, 'items': []}]},\n",
       "      'homeCity': 'Lower Silesian',\n",
       "      'bio': \"Wroclaw maniac & travel addict: if you're coming to my area and need some help, send me a message. I may be of help to you\",\n",
       "      'contact': {}},\n",
       "     {'id': '63145808',\n",
       "      'firstName': 'Tetiana',\n",
       "      'lastName': 'I',\n",
       "      'gender': 'female',\n",
       "      'photo': {'prefix': 'https://fastly.4sqi.net/img/user/',\n",
       "       'suffix': '/1MUW1SYVQ4MIIOK3.jpg'},\n",
       "      'tips': {'count': 3},\n",
       "      'lists': {'groups': [{'type': 'created', 'count': 2, 'items': []}]},\n",
       "      'homeCity': 'Ierápetra, ESYE43',\n",
       "      'bio': '',\n",
       "      'contact': {}},\n",
       "     {'id': '2091561',\n",
       "      'firstName': 'Lotterliebe',\n",
       "      'gender': 'female',\n",
       "      'photo': {'prefix': 'https://fastly.4sqi.net/img/user/',\n",
       "       'suffix': '/2091561_uqpgk1g6_k_v_0zsyq9C4aZELIuDNdHbdL228iGTfS6Ghrme-_lFHNxt0YbXY3kdVmkRs3wy-.jpg'},\n",
       "      'tips': {'count': 112},\n",
       "      'lists': {'groups': [{'type': 'created', 'count': 17, 'items': []}]},\n",
       "      'homeCity': 'Berlin, Germany',\n",
       "      'bio': '',\n",
       "      'contact': {}},\n",
       "     {'id': '80389749',\n",
       "      'firstName': 'Fabio',\n",
       "      'lastName': 'P',\n",
       "      'gender': 'male',\n",
       "      'photo': {'prefix': 'https://fastly.4sqi.net/img/user/',\n",
       "       'suffix': '/80389749-2XH3BZBG1OUCO4XZ.jpg'},\n",
       "      'tips': {'count': 7},\n",
       "      'lists': {'groups': [{'type': 'created', 'count': 14, 'items': []}]},\n",
       "      'homeCity': 'Wroclaw, Poland',\n",
       "      'bio': '',\n",
       "      'contact': {}}]}]},\n",
       " 'tips': {'count': 302},\n",
       " 'homeCity': 'Wroclaw, Poland & Moers, Germany',\n",
       " 'bio': '',\n",
       " 'contact': {},\n",
       " 'photos': {'count': 0, 'items': []},\n",
       " 'type': 'user',\n",
       " 'mayorships': {'count': 0, 'items': []},\n",
       " 'checkins': {'count': 1308, 'items': []},\n",
       " 'lists': {'count': 25,\n",
       "  'groups': [{'type': 'created',\n",
       "    'count': 23,\n",
       "    'items': [{'id': '5ca2eacd0a08ab00392227ef',\n",
       "      'name': 'Amsterdam Fika',\n",
       "      'description': '',\n",
       "      'editable': False,\n",
       "      'public': True,\n",
       "      'collaborative': False,\n",
       "      'url': '/tomcio88/list/amsterdam-fika',\n",
       "      'canonicalUrl': 'https://foursquare.com/tomcio88/list/amsterdam-fika',\n",
       "      'createdAt': 1554180813,\n",
       "      'updatedAt': 1554376963,\n",
       "      'photo': {'id': '5584544d498e4bc106c0f50d',\n",
       "       'createdAt': 1434735693,\n",
       "       'prefix': 'https://fastly.4sqi.net/img/general/',\n",
       "       'suffix': '/29318661_VfUcdBkNUb5yHpW_aMLM2kt17vq4YgQSru0m_rnQq9E.jpg',\n",
       "       'width': 1440,\n",
       "       'height': 1440,\n",
       "       'user': {'id': '29318661',\n",
       "        'firstName': 'Miki',\n",
       "        'lastName': 'I',\n",
       "        'gender': 'female',\n",
       "        'photo': {'prefix': 'https://fastly.4sqi.net/img/user/',\n",
       "         'suffix': '/29318661-CO5ZM521Z1NVROLV.jpg'}},\n",
       "       'visibility': 'public'},\n",
       "      'followers': {'count': 0},\n",
       "      'listItems': {'count': 16}},\n",
       "     {'id': '5ca2e8f7ed293a002bb2ce4b',\n",
       "      'name': 'Amsterdam',\n",
       "      'description': '',\n",
       "      'editable': False,\n",
       "      'public': True,\n",
       "      'collaborative': False,\n",
       "      'url': '/tomcio88/list/amsterdam',\n",
       "      'canonicalUrl': 'https://foursquare.com/tomcio88/list/amsterdam',\n",
       "      'createdAt': 1554180343,\n",
       "      'updatedAt': 1554376762,\n",
       "      'photo': {'id': '51eff5b9498e48469b2fa188',\n",
       "       'createdAt': 1374680505,\n",
       "       'prefix': 'https://fastly.4sqi.net/img/general/',\n",
       "       'suffix': '/48725880_3-g4pkFpcyr01pXAq5AAjft1oL0wQMXucoqKqIWzd9I.jpg',\n",
       "       'width': 612,\n",
       "       'height': 612,\n",
       "       'user': {'id': '48725880',\n",
       "        'firstName': 'miki',\n",
       "        'gender': 'male',\n",
       "        'photo': {'prefix': 'https://fastly.4sqi.net/img/user/',\n",
       "         'suffix': '/RTOLFLKUZFNYX1FV.jpg'}},\n",
       "       'visibility': 'public'},\n",
       "      'followers': {'count': 0},\n",
       "      'listItems': {'count': 30}},\n",
       "     {'id': '5ca2ea91234724002c88a939',\n",
       "      'name': 'Amsterdam Food',\n",
       "      'description': '',\n",
       "      'editable': False,\n",
       "      'public': True,\n",
       "      'collaborative': False,\n",
       "      'url': '/tomcio88/list/amsterdam-food',\n",
       "      'canonicalUrl': 'https://foursquare.com/tomcio88/list/amsterdam-food',\n",
       "      'createdAt': 1554180753,\n",
       "      'updatedAt': 1554376490,\n",
       "      'photo': {'id': '57617915498e44dd4f80981c',\n",
       "       'createdAt': 1466005781,\n",
       "       'prefix': 'https://fastly.4sqi.net/img/general/',\n",
       "       'suffix': '/92465019_P_3OJcsktpm_Zmd3Rl6ZAnBbP_EHcsyc1uOL3YegpgQ.jpg',\n",
       "       'width': 540,\n",
       "       'height': 960,\n",
       "       'user': {'id': '92465019',\n",
       "        'firstName': 'Katrijne',\n",
       "        'lastName': 'M',\n",
       "        'gender': 'female',\n",
       "        'photo': {'prefix': 'https://fastly.4sqi.net/img/user/',\n",
       "         'suffix': '/92465019-A3ALD15KN4GVK0KU.jpg'}},\n",
       "       'visibility': 'public'},\n",
       "      'followers': {'count': 0},\n",
       "      'listItems': {'count': 26}}]},\n",
       "   {'type': 'followed', 'count': 0, 'items': []},\n",
       "   {'type': 'yours',\n",
       "    'count': 2,\n",
       "    'items': [{'id': '95753554/todos',\n",
       "      'name': \"The T's Saved Places\",\n",
       "      'description': '',\n",
       "      'type': 'todos',\n",
       "      'editable': False,\n",
       "      'public': True,\n",
       "      'collaborative': False,\n",
       "      'url': '/tomcio88/list/todos',\n",
       "      'canonicalUrl': 'https://foursquare.com/tomcio88/list/todos',\n",
       "      'listItems': {'count': 25}},\n",
       "     {'id': '95753554/venuelikes',\n",
       "      'name': 'The T’s Liked Places',\n",
       "      'description': '',\n",
       "      'type': 'likes',\n",
       "      'editable': False,\n",
       "      'public': True,\n",
       "      'collaborative': False,\n",
       "      'url': '/tomcio88/list/venuelikes',\n",
       "      'canonicalUrl': 'https://foursquare.com/tomcio88/list/venuelikes',\n",
       "      'listItems': {'count': 0}}]}]},\n",
       " 'lenses': []}"
      ]
     },
     "execution_count": 29,
     "metadata": {},
     "output_type": "execute_result"
    }
   ],
   "source": [
    "user_data"
   ]
  },
  {
   "cell_type": "code",
   "execution_count": 33,
   "metadata": {
    "button": false,
    "collapsed": false,
    "deletable": true,
    "new_sheet": false,
    "run_control": {
     "read_only": false
    }
   },
   "outputs": [
    {
     "data": {
      "text/html": [
       "<img src=\"https://fastly.4sqi.net/img/user/300x300/95753554-2AH2AS0PA0SNGM1V.jpg\"/>"
      ],
      "text/plain": [
       "<IPython.core.display.Image object>"
      ]
     },
     "execution_count": 33,
     "metadata": {},
     "output_type": "execute_result"
    }
   ],
   "source": [
    "# 1. grab prefix of photo\n",
    "# 2. grab suffix of photo\n",
    "# 3. concatenate them using the image size  \n",
    "Image(url='https://fastly.4sqi.net/img/user/300x300/95753554-2AH2AS0PA0SNGM1V.jpg')"
   ]
  },
  {
   "cell_type": "markdown",
   "metadata": {
    "button": false,
    "deletable": true,
    "new_sheet": false,
    "run_control": {
     "read_only": false
    }
   },
   "source": [
    "  "
   ]
  },
  {
   "cell_type": "markdown",
   "metadata": {
    "button": false,
    "deletable": true,
    "new_sheet": false,
    "run_control": {
     "read_only": false
    }
   },
   "source": [
    "<a id=\"item4\"></a>"
   ]
  },
  {
   "cell_type": "markdown",
   "metadata": {
    "button": false,
    "deletable": true,
    "new_sheet": false,
    "run_control": {
     "read_only": false
    }
   },
   "source": [
    "## 4. Explore a location\n",
    "> `https://api.foursquare.com/v2/venues/`**explore**`?client_id=`**CLIENT_ID**`&client_secret=`**CLIENT_SECRET**`&ll=`**LATITUDE**`,`**LONGITUDE**`&v=`**VERSION**`&limit=`**LIMIT**"
   ]
  },
  {
   "cell_type": "markdown",
   "metadata": {
    "button": false,
    "deletable": true,
    "new_sheet": false,
    "run_control": {
     "read_only": false
    }
   },
   "source": [
    "#### Let's now find popular spots around the Japanese restaurant <b>Szajnochy 11</b>. In order to explore the area, let's start by getting the latitude and longitude values of the restaurant."
   ]
  },
  {
   "cell_type": "code",
   "execution_count": 34,
   "metadata": {
    "button": false,
    "collapsed": true,
    "deletable": true,
    "new_sheet": false,
    "run_control": {
     "read_only": false
    }
   },
   "outputs": [],
   "source": [
    "latitude = 51.108505 \n",
    "longitude = 17.032074"
   ]
  },
  {
   "cell_type": "markdown",
   "metadata": {
    "button": false,
    "deletable": true,
    "new_sheet": false,
    "run_control": {
     "read_only": false
    }
   },
   "source": [
    "#### Define URL"
   ]
  },
  {
   "cell_type": "code",
   "execution_count": 35,
   "metadata": {
    "button": false,
    "collapsed": false,
    "deletable": true,
    "new_sheet": false,
    "run_control": {
     "read_only": false
    }
   },
   "outputs": [
    {
     "data": {
      "text/plain": [
       "'https://api.foursquare.com/v2/venues/explore?client_id=Y3UR25IN0Z0FBV3QJDLIAZW0WUWYKUDCQV31SQEQLTBDKU42&client_secret=JIZCJMER50TE5QXIQBZOSBQQGS5LQHNNCMUCAE4G2BHBYIIX&ll=51.108505,17.032074&v=20180604&radius=500&limit=30'"
      ]
     },
     "execution_count": 35,
     "metadata": {},
     "output_type": "execute_result"
    }
   ],
   "source": [
    "url = 'https://api.foursquare.com/v2/venues/explore?client_id={}&client_secret={}&ll={},{}&v={}&radius={}&limit={}'.format(CLIENT_ID, CLIENT_SECRET, latitude, longitude, VERSION, radius, LIMIT)\n",
    "url"
   ]
  },
  {
   "cell_type": "markdown",
   "metadata": {
    "button": false,
    "deletable": true,
    "new_sheet": false,
    "run_control": {
     "read_only": false
    }
   },
   "source": [
    "#### Send GET request and examine results"
   ]
  },
  {
   "cell_type": "code",
   "execution_count": 36,
   "metadata": {
    "button": false,
    "collapsed": true,
    "deletable": true,
    "new_sheet": false,
    "run_control": {
     "read_only": false
    }
   },
   "outputs": [],
   "source": [
    "import requests"
   ]
  },
  {
   "cell_type": "code",
   "execution_count": 37,
   "metadata": {
    "button": false,
    "collapsed": false,
    "deletable": true,
    "new_sheet": false,
    "run_control": {
     "read_only": false
    }
   },
   "outputs": [
    {
     "data": {
      "text/plain": [
       "'There are 30 around Szajnochy 11 restaurant.'"
      ]
     },
     "execution_count": 37,
     "metadata": {},
     "output_type": "execute_result"
    }
   ],
   "source": [
    "results = requests.get(url).json()\n",
    "'There are {} around Szajnochy 11 restaurant.'.format(len(results['response']['groups'][0]['items']))"
   ]
  },
  {
   "cell_type": "markdown",
   "metadata": {
    "button": false,
    "deletable": true,
    "new_sheet": false,
    "run_control": {
     "read_only": false
    }
   },
   "source": [
    "#### Get relevant part of JSON"
   ]
  },
  {
   "cell_type": "code",
   "execution_count": 38,
   "metadata": {
    "button": false,
    "collapsed": false,
    "deletable": true,
    "new_sheet": false,
    "run_control": {
     "read_only": false
    }
   },
   "outputs": [
    {
     "data": {
      "text/plain": [
       "{'reasons': {'count': 0,\n",
       "  'items': [{'summary': 'This spot is popular',\n",
       "    'type': 'general',\n",
       "    'reasonName': 'globalInteractionReason'}]},\n",
       " 'venue': {'id': '4b643fc4f964a52058a62ae3',\n",
       "  'name': 'Rynek',\n",
       "  'location': {'address': 'Rynek',\n",
       "   'lat': 51.10969782815125,\n",
       "   'lng': 17.031937186025647,\n",
       "   'labeledLatLngs': [{'label': 'display',\n",
       "     'lat': 51.10969782815125,\n",
       "     'lng': 17.031937186025647}],\n",
       "   'distance': 133,\n",
       "   'postalCode': '50-065',\n",
       "   'cc': 'PL',\n",
       "   'city': 'Wrocław',\n",
       "   'state': 'Województwo dolnośląskie',\n",
       "   'country': 'Polska',\n",
       "   'formattedAddress': ['Rynek', '50-065 Wrocław', 'Polska']},\n",
       "  'categories': [{'id': '4bf58dd8d48988d164941735',\n",
       "    'name': 'Plaza',\n",
       "    'pluralName': 'Plazas',\n",
       "    'shortName': 'Plaza',\n",
       "    'icon': {'prefix': 'https://ss3.4sqi.net/img/categories_v2/parks_outdoors/plaza_',\n",
       "     'suffix': '.png'},\n",
       "    'primary': True}],\n",
       "  'photos': {'count': 0, 'groups': []}},\n",
       " 'referralId': 'e-0-4b643fc4f964a52058a62ae3-0'}"
      ]
     },
     "execution_count": 38,
     "metadata": {},
     "output_type": "execute_result"
    }
   ],
   "source": [
    "items = results['response']['groups'][0]['items']\n",
    "items[0]"
   ]
  },
  {
   "cell_type": "markdown",
   "metadata": {
    "button": false,
    "deletable": true,
    "new_sheet": false,
    "run_control": {
     "read_only": false
    }
   },
   "source": [
    "#### Process JSON and convert it to a clean dataframe"
   ]
  },
  {
   "cell_type": "code",
   "execution_count": 39,
   "metadata": {
    "button": false,
    "collapsed": false,
    "deletable": true,
    "new_sheet": false,
    "run_control": {
     "read_only": false
    },
    "scrolled": false
   },
   "outputs": [
    {
     "data": {
      "text/html": [
       "<div>\n",
       "<style scoped>\n",
       "    .dataframe tbody tr th:only-of-type {\n",
       "        vertical-align: middle;\n",
       "    }\n",
       "\n",
       "    .dataframe tbody tr th {\n",
       "        vertical-align: top;\n",
       "    }\n",
       "\n",
       "    .dataframe thead th {\n",
       "        text-align: right;\n",
       "    }\n",
       "</style>\n",
       "<table border=\"1\" class=\"dataframe\">\n",
       "  <thead>\n",
       "    <tr style=\"text-align: right;\">\n",
       "      <th></th>\n",
       "      <th>name</th>\n",
       "      <th>categories</th>\n",
       "      <th>address</th>\n",
       "      <th>cc</th>\n",
       "      <th>city</th>\n",
       "      <th>country</th>\n",
       "      <th>crossStreet</th>\n",
       "      <th>distance</th>\n",
       "      <th>formattedAddress</th>\n",
       "      <th>labeledLatLngs</th>\n",
       "      <th>lat</th>\n",
       "      <th>lng</th>\n",
       "      <th>postalCode</th>\n",
       "      <th>state</th>\n",
       "      <th>id</th>\n",
       "    </tr>\n",
       "  </thead>\n",
       "  <tbody>\n",
       "    <tr>\n",
       "      <th>0</th>\n",
       "      <td>Rynek</td>\n",
       "      <td>Plaza</td>\n",
       "      <td>Rynek</td>\n",
       "      <td>PL</td>\n",
       "      <td>Wrocław</td>\n",
       "      <td>Polska</td>\n",
       "      <td>NaN</td>\n",
       "      <td>133</td>\n",
       "      <td>[Rynek, 50-065 Wrocław, Polska]</td>\n",
       "      <td>[{'label': 'display', 'lat': 51.10969782815125, 'lng': 17.031937186025647}]</td>\n",
       "      <td>51.109698</td>\n",
       "      <td>17.031937</td>\n",
       "      <td>50-065</td>\n",
       "      <td>Województwo dolnośląskie</td>\n",
       "      <td>4b643fc4f964a52058a62ae3</td>\n",
       "    </tr>\n",
       "    <tr>\n",
       "      <th>1</th>\n",
       "      <td>Tajne Komplety</td>\n",
       "      <td>Bookstore</td>\n",
       "      <td>ul. Przejście Garncarskie 2</td>\n",
       "      <td>PL</td>\n",
       "      <td>Wrocław</td>\n",
       "      <td>Polska</td>\n",
       "      <td>NaN</td>\n",
       "      <td>182</td>\n",
       "      <td>[ul. Przejście Garncarskie 2, 50-107 Wrocław, Polska]</td>\n",
       "      <td>[{'label': 'display', 'lat': 51.11013389176684, 'lng': 17.03238714670088}]</td>\n",
       "      <td>51.110134</td>\n",
       "      <td>17.032387</td>\n",
       "      <td>50-107</td>\n",
       "      <td>Województwo dolnośląskie</td>\n",
       "      <td>4d87a00561676dcb4cb9b8e4</td>\n",
       "    </tr>\n",
       "    <tr>\n",
       "      <th>2</th>\n",
       "      <td>Stacja Pasibus</td>\n",
       "      <td>Burger Joint</td>\n",
       "      <td>Świdnicka 11</td>\n",
       "      <td>PL</td>\n",
       "      <td>Wrocław</td>\n",
       "      <td>Polska</td>\n",
       "      <td>NaN</td>\n",
       "      <td>82</td>\n",
       "      <td>[Świdnicka 11, 50-066 Wrocław, Polska]</td>\n",
       "      <td>[{'label': 'display', 'lat': 51.107766, 'lng': 17.032182}]</td>\n",
       "      <td>51.107766</td>\n",
       "      <td>17.032182</td>\n",
       "      <td>50-066</td>\n",
       "      <td>Województwo dolnośląskie</td>\n",
       "      <td>569bc71c498e9972e040403b</td>\n",
       "    </tr>\n",
       "    <tr>\n",
       "      <th>3</th>\n",
       "      <td>Vivere Italiano</td>\n",
       "      <td>Wine Shop</td>\n",
       "      <td>Ofiar Oswiecimskich</td>\n",
       "      <td>PL</td>\n",
       "      <td>Wrocław</td>\n",
       "      <td>Polska</td>\n",
       "      <td>Świdnicka</td>\n",
       "      <td>1</td>\n",
       "      <td>[Ofiar Oswiecimskich (Świdnicka), Wrocław, Polska]</td>\n",
       "      <td>[{'label': 'display', 'lat': 51.10850472806552, 'lng': 17.032054981020867}]</td>\n",
       "      <td>51.108505</td>\n",
       "      <td>17.032055</td>\n",
       "      <td>NaN</td>\n",
       "      <td>Województwo dolnośląskie</td>\n",
       "      <td>540c7cd7498e32e774fea065</td>\n",
       "    </tr>\n",
       "    <tr>\n",
       "      <th>4</th>\n",
       "      <td>Kontynuacja</td>\n",
       "      <td>Beer Bar</td>\n",
       "      <td>Ofiar Oświęcimskich 17</td>\n",
       "      <td>PL</td>\n",
       "      <td>Wrocław</td>\n",
       "      <td>Polska</td>\n",
       "      <td>NaN</td>\n",
       "      <td>28</td>\n",
       "      <td>[Ofiar Oświęcimskich 17, 50-069 Wrocław, Polska]</td>\n",
       "      <td>[{'label': 'display', 'lat': 51.108511143559625, 'lng': 17.031659184950918}]</td>\n",
       "      <td>51.108511</td>\n",
       "      <td>17.031659</td>\n",
       "      <td>50-069</td>\n",
       "      <td>Województwo dolnośląskie</td>\n",
       "      <td>524090ffbce6a00b7f4c55b6</td>\n",
       "    </tr>\n",
       "    <tr>\n",
       "      <th>5</th>\n",
       "      <td>Vincent</td>\n",
       "      <td>Bakery</td>\n",
       "      <td>Oławska 8</td>\n",
       "      <td>PL</td>\n",
       "      <td>Wrocław</td>\n",
       "      <td>Polska</td>\n",
       "      <td>NaN</td>\n",
       "      <td>200</td>\n",
       "      <td>[Oławska 8, Wrocław, Polska]</td>\n",
       "      <td>[{'label': 'display', 'lat': 51.108686, 'lng': 17.034931}]</td>\n",
       "      <td>51.108686</td>\n",
       "      <td>17.034931</td>\n",
       "      <td>NaN</td>\n",
       "      <td>Województwo dolnośląskie</td>\n",
       "      <td>54b94c02498e8e5ef2098aba</td>\n",
       "    </tr>\n",
       "    <tr>\n",
       "      <th>6</th>\n",
       "      <td>Mama Manoush</td>\n",
       "      <td>Gastropub</td>\n",
       "      <td>Świdnicka</td>\n",
       "      <td>PL</td>\n",
       "      <td>Wrocław</td>\n",
       "      <td>Polska</td>\n",
       "      <td>NaN</td>\n",
       "      <td>67</td>\n",
       "      <td>[Świdnicka, Wrocław, Polska]</td>\n",
       "      <td>[{'label': 'display', 'lat': 51.10836207938017, 'lng': 17.033008933067322}]</td>\n",
       "      <td>51.108362</td>\n",
       "      <td>17.033009</td>\n",
       "      <td>NaN</td>\n",
       "      <td>Województwo dolnośląskie</td>\n",
       "      <td>56ce05c5498efad1a3157f70</td>\n",
       "    </tr>\n",
       "    <tr>\n",
       "      <th>7</th>\n",
       "      <td>Plac Solny</td>\n",
       "      <td>Plaza</td>\n",
       "      <td>pl. Solny</td>\n",
       "      <td>PL</td>\n",
       "      <td>Wrocław</td>\n",
       "      <td>Polska</td>\n",
       "      <td>NaN</td>\n",
       "      <td>224</td>\n",
       "      <td>[pl. Solny, 50-060 Wrocław, Polska]</td>\n",
       "      <td>[{'label': 'display', 'lat': 51.10962820353546, 'lng': 17.029409112299632}]</td>\n",
       "      <td>51.109628</td>\n",
       "      <td>17.029409</td>\n",
       "      <td>50-060</td>\n",
       "      <td>Województwo dolnośląskie</td>\n",
       "      <td>4b64582af964a5201cac2ae3</td>\n",
       "    </tr>\n",
       "    <tr>\n",
       "      <th>8</th>\n",
       "      <td>Whiskey in the Jar</td>\n",
       "      <td>Steakhouse</td>\n",
       "      <td>Rynek 23,24</td>\n",
       "      <td>PL</td>\n",
       "      <td>Wrocław</td>\n",
       "      <td>Polska</td>\n",
       "      <td>NaN</td>\n",
       "      <td>95</td>\n",
       "      <td>[Rynek 23,24, 50-101 Wrocław, Polska]</td>\n",
       "      <td>[{'label': 'display', 'lat': 51.10936588828019, 'lng': 17.032133500891508}]</td>\n",
       "      <td>51.109366</td>\n",
       "      <td>17.032134</td>\n",
       "      <td>50-101</td>\n",
       "      <td>Województwo dolnośląskie</td>\n",
       "      <td>5374f01d498e4dcce41c82c7</td>\n",
       "    </tr>\n",
       "    <tr>\n",
       "      <th>9</th>\n",
       "      <td>Happy Little Truck</td>\n",
       "      <td>Pizza Place</td>\n",
       "      <td>NaN</td>\n",
       "      <td>PL</td>\n",
       "      <td>Wrocław</td>\n",
       "      <td>Polska</td>\n",
       "      <td>NaN</td>\n",
       "      <td>186</td>\n",
       "      <td>[Wrocław, Polska]</td>\n",
       "      <td>[{'label': 'display', 'lat': 51.10737598217345, 'lng': 17.03009883628581}]</td>\n",
       "      <td>51.107376</td>\n",
       "      <td>17.030099</td>\n",
       "      <td>NaN</td>\n",
       "      <td>Województwo dolnośląskie</td>\n",
       "      <td>53627d93498e00598359dadc</td>\n",
       "    </tr>\n",
       "  </tbody>\n",
       "</table>\n",
       "</div>"
      ],
      "text/plain": [
       "                 name    categories                      address  cc     city  \\\n",
       "0  Rynek               Plaza         Rynek                        PL  Wrocław   \n",
       "1  Tajne Komplety      Bookstore     ul. Przejście Garncarskie 2  PL  Wrocław   \n",
       "2  Stacja Pasibus      Burger Joint  Świdnicka 11                 PL  Wrocław   \n",
       "3  Vivere Italiano     Wine Shop     Ofiar Oswiecimskich          PL  Wrocław   \n",
       "4  Kontynuacja         Beer Bar      Ofiar Oświęcimskich 17       PL  Wrocław   \n",
       "5  Vincent             Bakery        Oławska 8                    PL  Wrocław   \n",
       "6  Mama Manoush        Gastropub     Świdnicka                    PL  Wrocław   \n",
       "7  Plac Solny          Plaza         pl. Solny                    PL  Wrocław   \n",
       "8  Whiskey in the Jar  Steakhouse    Rynek 23,24                  PL  Wrocław   \n",
       "9  Happy Little Truck  Pizza Place   NaN                          PL  Wrocław   \n",
       "\n",
       "  country crossStreet  distance  \\\n",
       "0  Polska  NaN         133        \n",
       "1  Polska  NaN         182        \n",
       "2  Polska  NaN         82         \n",
       "3  Polska  Świdnicka   1          \n",
       "4  Polska  NaN         28         \n",
       "5  Polska  NaN         200        \n",
       "6  Polska  NaN         67         \n",
       "7  Polska  NaN         224        \n",
       "8  Polska  NaN         95         \n",
       "9  Polska  NaN         186        \n",
       "\n",
       "                                        formattedAddress  \\\n",
       "0  [Rynek, 50-065 Wrocław, Polska]                         \n",
       "1  [ul. Przejście Garncarskie 2, 50-107 Wrocław, Polska]   \n",
       "2  [Świdnicka 11, 50-066 Wrocław, Polska]                  \n",
       "3  [Ofiar Oswiecimskich (Świdnicka), Wrocław, Polska]      \n",
       "4  [Ofiar Oświęcimskich 17, 50-069 Wrocław, Polska]        \n",
       "5  [Oławska 8, Wrocław, Polska]                            \n",
       "6  [Świdnicka, Wrocław, Polska]                            \n",
       "7  [pl. Solny, 50-060 Wrocław, Polska]                     \n",
       "8  [Rynek 23,24, 50-101 Wrocław, Polska]                   \n",
       "9  [Wrocław, Polska]                                       \n",
       "\n",
       "                                                                 labeledLatLngs  \\\n",
       "0  [{'label': 'display', 'lat': 51.10969782815125, 'lng': 17.031937186025647}]    \n",
       "1  [{'label': 'display', 'lat': 51.11013389176684, 'lng': 17.03238714670088}]     \n",
       "2  [{'label': 'display', 'lat': 51.107766, 'lng': 17.032182}]                     \n",
       "3  [{'label': 'display', 'lat': 51.10850472806552, 'lng': 17.032054981020867}]    \n",
       "4  [{'label': 'display', 'lat': 51.108511143559625, 'lng': 17.031659184950918}]   \n",
       "5  [{'label': 'display', 'lat': 51.108686, 'lng': 17.034931}]                     \n",
       "6  [{'label': 'display', 'lat': 51.10836207938017, 'lng': 17.033008933067322}]    \n",
       "7  [{'label': 'display', 'lat': 51.10962820353546, 'lng': 17.029409112299632}]    \n",
       "8  [{'label': 'display', 'lat': 51.10936588828019, 'lng': 17.032133500891508}]    \n",
       "9  [{'label': 'display', 'lat': 51.10737598217345, 'lng': 17.03009883628581}]     \n",
       "\n",
       "         lat        lng postalCode                     state  \\\n",
       "0  51.109698  17.031937  50-065     Województwo dolnośląskie   \n",
       "1  51.110134  17.032387  50-107     Województwo dolnośląskie   \n",
       "2  51.107766  17.032182  50-066     Województwo dolnośląskie   \n",
       "3  51.108505  17.032055  NaN        Województwo dolnośląskie   \n",
       "4  51.108511  17.031659  50-069     Województwo dolnośląskie   \n",
       "5  51.108686  17.034931  NaN        Województwo dolnośląskie   \n",
       "6  51.108362  17.033009  NaN        Województwo dolnośląskie   \n",
       "7  51.109628  17.029409  50-060     Województwo dolnośląskie   \n",
       "8  51.109366  17.032134  50-101     Województwo dolnośląskie   \n",
       "9  51.107376  17.030099  NaN        Województwo dolnośląskie   \n",
       "\n",
       "                         id  \n",
       "0  4b643fc4f964a52058a62ae3  \n",
       "1  4d87a00561676dcb4cb9b8e4  \n",
       "2  569bc71c498e9972e040403b  \n",
       "3  540c7cd7498e32e774fea065  \n",
       "4  524090ffbce6a00b7f4c55b6  \n",
       "5  54b94c02498e8e5ef2098aba  \n",
       "6  56ce05c5498efad1a3157f70  \n",
       "7  4b64582af964a5201cac2ae3  \n",
       "8  5374f01d498e4dcce41c82c7  \n",
       "9  53627d93498e00598359dadc  "
      ]
     },
     "execution_count": 39,
     "metadata": {},
     "output_type": "execute_result"
    }
   ],
   "source": [
    "dataframe = json_normalize(items) # flatten JSON\n",
    "\n",
    "# filter columns\n",
    "filtered_columns = ['venue.name', 'venue.categories'] + [col for col in dataframe.columns if col.startswith('venue.location.')] + ['venue.id']\n",
    "dataframe_filtered = dataframe.loc[:, filtered_columns]\n",
    "\n",
    "# filter the category for each row\n",
    "dataframe_filtered['venue.categories'] = dataframe_filtered.apply(get_category_type, axis=1)\n",
    "\n",
    "# clean columns\n",
    "dataframe_filtered.columns = [col.split('.')[-1] for col in dataframe_filtered.columns]\n",
    "\n",
    "dataframe_filtered.head(10)"
   ]
  },
  {
   "cell_type": "markdown",
   "metadata": {
    "button": false,
    "deletable": true,
    "new_sheet": false,
    "run_control": {
     "read_only": false
    }
   },
   "source": [
    "#### Let's visualize these items on the map around our location"
   ]
  },
  {
   "cell_type": "code",
   "execution_count": 40,
   "metadata": {
    "button": false,
    "collapsed": false,
    "deletable": true,
    "new_sheet": false,
    "run_control": {
     "read_only": false
    }
   },
   "outputs": [
    {
     "data": {
      "text/html": [
       "<div style=\"width:100%;\"><div style=\"position:relative;width:100%;height:0;padding-bottom:60%;\"><iframe src=\"data:text/html;charset=utf-8;base64,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\" style=\"position:absolute;width:100%;height:100%;left:0;top:0;border:none !important;\" allowfullscreen webkitallowfullscreen mozallowfullscreen></iframe></div></div>"
      ],
      "text/plain": [
       "<folium.folium.Map at 0x7fcb3a6c9b70>"
      ]
     },
     "execution_count": 40,
     "metadata": {},
     "output_type": "execute_result"
    }
   ],
   "source": [
    "venues_map = folium.Map(location=[latitude, longitude], zoom_start=17) # generate map centred around Szajnochy 11\n",
    "\n",
    "\n",
    "# add Szajnochy 11 as a red circle mark\n",
    "folium.features.CircleMarker(\n",
    "    [latitude, longitude],\n",
    "    radius=10,\n",
    "    popup='Szajnochy 11',\n",
    "    fill=True,\n",
    "    color='red',\n",
    "    fill_color='red',\n",
    "    fill_opacity=0.6\n",
    "    ).add_to(venues_map)\n",
    "\n",
    "\n",
    "# add popular spots to the map as blue circle markers\n",
    "for lat, lng, label in zip(dataframe_filtered.lat, dataframe_filtered.lng, dataframe_filtered.categories):\n",
    "    folium.features.CircleMarker(\n",
    "        [lat, lng],\n",
    "        radius=5,\n",
    "        popup=label,\n",
    "        fill=True,\n",
    "        color='blue',\n",
    "        fill_color='blue',\n",
    "        fill_opacity=0.6\n",
    "        ).add_to(venues_map)\n",
    "\n",
    "# display map\n",
    "venues_map"
   ]
  },
  {
   "cell_type": "markdown",
   "metadata": {
    "button": false,
    "deletable": true,
    "new_sheet": false,
    "run_control": {
     "read_only": false
    }
   },
   "source": [
    "   "
   ]
  },
  {
   "cell_type": "markdown",
   "metadata": {
    "button": false,
    "deletable": true,
    "new_sheet": false,
    "run_control": {
     "read_only": false
    }
   },
   "source": [
    "<h3><b><font color = orange>4. Results</font></b></h3>\n",
    "- First we’ve got coordinates for the Market Square in Wroclaw, searching for Japanese restaurants. We’ve got the closest venues and their ratings. We’ve identified the restaurant with higher ratings and get a foursquare user tips. We’ve been able to get insights about him like how many posts he had and the  nationality of his friends in foursquare, even to look at his picture.<br>\n",
    "- After that we will generate maps for the second location, compare the results and consolidate that on the report for Week 5. "
   ]
  },
  {
   "cell_type": "markdown",
   "metadata": {
    "button": false,
    "deletable": true,
    "new_sheet": false,
    "run_control": {
     "read_only": false
    }
   },
   "source": [
    "<a id=\"item6\"></a>"
   ]
  },
  {
   "cell_type": "markdown",
   "metadata": {
    "button": false,
    "deletable": true,
    "new_sheet": false,
    "run_control": {
     "read_only": false
    }
   },
   "source": [
    "   "
   ]
  }
 ],
 "metadata": {
  "kernelspec": {
   "display_name": "Python 3",
   "language": "python",
   "name": "python3"
  },
  "language_info": {
   "codemirror_mode": {
    "name": "ipython",
    "version": 3
   },
   "file_extension": ".py",
   "mimetype": "text/x-python",
   "name": "python",
   "nbconvert_exporter": "python",
   "pygments_lexer": "ipython3",
   "version": "3.6.8"
  },
  "widgets": {
   "state": {},
   "version": "1.1.2"
  }
 },
 "nbformat": 4,
 "nbformat_minor": 2
}
